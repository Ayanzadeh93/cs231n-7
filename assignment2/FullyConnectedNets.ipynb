{
 "cells": [
  {
   "cell_type": "markdown",
   "metadata": {
    "deletable": true,
    "editable": true
   },
   "source": [
    "# Fully-Connected Neural Nets\n",
    "In the previous homework you implemented a fully-connected two-layer neural network on CIFAR-10. The implementation was simple but not very modular since the loss and gradient were computed in a single monolithic function. This is manageable for a simple two-layer network, but would become impractical as we move to bigger models. Ideally we want to build networks using a more modular design so that we can implement different layer types in isolation and then snap them together into models with different architectures.\n",
    "\n",
    "In this exercise we will implement fully-connected networks using a more modular approach. For each layer we will implement a `forward` and a `backward` function. The `forward` function will receive inputs, weights, and other parameters and will return both an output and a `cache` object storing data needed for the backward pass, like this:\n",
    "\n",
    "```python\n",
    "def layer_forward(x, w):\n",
    "  \"\"\" Receive inputs x and weights w \"\"\"\n",
    "  # Do some computations ...\n",
    "  z = # ... some intermediate value\n",
    "  # Do some more computations ...\n",
    "  out = # the output\n",
    "   \n",
    "  cache = (x, w, z, out) # Values we need to compute gradients\n",
    "   \n",
    "  return out, cache\n",
    "```\n",
    "\n",
    "The backward pass will receive upstream derivatives and the `cache` object, and will return gradients with respect to the inputs and weights, like this:\n",
    "\n",
    "```python\n",
    "def layer_backward(dout, cache):\n",
    "  \"\"\"\n",
    "  Receive derivative of loss with respect to outputs and cache,\n",
    "  and compute derivative with respect to inputs.\n",
    "  \"\"\"\n",
    "  # Unpack cache values\n",
    "  x, w, z, out = cache\n",
    "  \n",
    "  # Use values in cache to compute derivatives\n",
    "  dx = # Derivative of loss with respect to x\n",
    "  dw = # Derivative of loss with respect to w\n",
    "  \n",
    "  return dx, dw\n",
    "```\n",
    "\n",
    "After implementing a bunch of layers this way, we will be able to easily combine them to build classifiers with different architectures.\n",
    "\n",
    "In addition to implementing fully-connected networks of arbitrary depth, we will also explore different update rules for optimization, and introduce Dropout as a regularizer and Batch Normalization as a tool to more efficiently optimize deep networks.\n",
    "  "
   ]
  },
  {
   "cell_type": "code",
   "execution_count": null,
   "metadata": {
    "collapsed": true
   },
   "outputs": [],
   "source": []
  },
  {
   "cell_type": "code",
   "execution_count": 3,
   "metadata": {
    "collapsed": false,
    "deletable": true,
    "editable": true
   },
   "outputs": [
    {
     "name": "stdout",
     "output_type": "stream",
     "text": [
      "The autoreload extension is already loaded. To reload it, use:\n",
      "  %reload_ext autoreload\n"
     ]
    }
   ],
   "source": [
    "# As usual, a bit of setup\n",
    "from __future__ import print_function\n",
    "import time\n",
    "import numpy as np\n",
    "import matplotlib.pyplot as plt\n",
    "from cs231n.classifiers.fc_net import *\n",
    "from cs231n.data_utils import get_CIFAR10_data\n",
    "from cs231n.gradient_check import eval_numerical_gradient, eval_numerical_gradient_array\n",
    "from cs231n.solver import Solver\n",
    "\n",
    "%matplotlib inline\n",
    "plt.rcParams['figure.figsize'] = (10.0, 8.0) # set default size of plots\n",
    "plt.rcParams['image.interpolation'] = 'nearest'\n",
    "plt.rcParams['image.cmap'] = 'gray'\n",
    "\n",
    "# for auto-reloading external modules\n",
    "# see http://stackoverflow.com/questions/1907993/autoreload-of-modules-in-ipython\n",
    "%load_ext autoreload\n",
    "%autoreload 2\n",
    "\n",
    "def rel_error(x, y):\n",
    "  \"\"\" returns relative error \"\"\"\n",
    "  return np.max(np.abs(x - y) / (np.maximum(1e-8, np.abs(x) + np.abs(y))))"
   ]
  },
  {
   "cell_type": "code",
   "execution_count": 4,
   "metadata": {
    "collapsed": false,
    "deletable": true,
    "editable": true
   },
   "outputs": [
    {
     "name": "stdout",
     "output_type": "stream",
     "text": [
      "('X_val: ', (1000, 3, 32, 32))\n",
      "('X_train: ', (49000, 3, 32, 32))\n",
      "('X_test: ', (1000, 3, 32, 32))\n",
      "('y_val: ', (1000,))\n",
      "('y_train: ', (49000,))\n",
      "('y_test: ', (1000,))\n"
     ]
    }
   ],
   "source": [
    "# Load the (preprocessed) CIFAR10 data.\n",
    "\n",
    "data = get_CIFAR10_data()\n",
    "for k, v in list(data.items()):\n",
    "  print(('%s: ' % k, v.shape))"
   ]
  },
  {
   "cell_type": "markdown",
   "metadata": {
    "deletable": true,
    "editable": true
   },
   "source": [
    "# Affine layer: foward\n",
    "Open the file `cs231n/layers.py` and implement the `affine_forward` function.\n",
    "\n",
    "Once you are done you can test your implementaion by running the following:"
   ]
  },
  {
   "cell_type": "code",
   "execution_count": 39,
   "metadata": {
    "collapsed": false,
    "deletable": true,
    "editable": true
   },
   "outputs": [
    {
     "name": "stdout",
     "output_type": "stream",
     "text": [
      "Testing affine_forward function:\n",
      "difference:  9.76984946819e-10\n"
     ]
    }
   ],
   "source": [
    "# Test the affine_forward function\n",
    "\n",
    "num_inputs = 2\n",
    "input_shape = (4, 5, 6)\n",
    "output_dim = 3\n",
    "\n",
    "input_size = num_inputs * np.prod(input_shape)\n",
    "weight_size = output_dim * np.prod(input_shape)\n",
    "\n",
    "x = np.linspace(-0.1, 0.5, num=input_size).reshape(num_inputs, *input_shape)\n",
    "w = np.linspace(-0.2, 0.3, num=weight_size).reshape(np.prod(input_shape), output_dim)\n",
    "b = np.linspace(-0.3, 0.1, num=output_dim)\n",
    "\n",
    "out, _ = affine_forward(x, w, b)\n",
    "correct_out = np.array([[ 1.49834967,  1.70660132,  1.91485297],\n",
    "                        [ 3.25553199,  3.5141327,   3.77273342]])\n",
    "\n",
    "# Compare your output with ours. The error should be around 1e-9.\n",
    "print('Testing affine_forward function:')\n",
    "print('difference: ', rel_error(out, correct_out))"
   ]
  },
  {
   "cell_type": "markdown",
   "metadata": {
    "deletable": true,
    "editable": true
   },
   "source": [
    "# Affine layer: backward\n",
    "Now implement the `affine_backward` function and test your implementation using numeric gradient checking."
   ]
  },
  {
   "cell_type": "code",
   "execution_count": 40,
   "metadata": {
    "collapsed": false,
    "deletable": true,
    "editable": true
   },
   "outputs": [
    {
     "name": "stdout",
     "output_type": "stream",
     "text": [
      "Testing affine_backward function:\n",
      "dx error:  5.39910036865e-11\n",
      "dw error:  9.9042118654e-11\n",
      "db error:  2.41228675681e-11\n"
     ]
    }
   ],
   "source": [
    "# Test the affine_backward function\n",
    "np.random.seed(231)\n",
    "x = np.random.randn(10, 2, 3)\n",
    "w = np.random.randn(6, 5)\n",
    "b = np.random.randn(5)\n",
    "dout = np.random.randn(10, 5)\n",
    "\n",
    "dx_num = eval_numerical_gradient_array(lambda x: affine_forward(x, w, b)[0], x, dout)\n",
    "dw_num = eval_numerical_gradient_array(lambda w: affine_forward(x, w, b)[0], w, dout)\n",
    "db_num = eval_numerical_gradient_array(lambda b: affine_forward(x, w, b)[0], b, dout)\n",
    "\n",
    "_, cache = affine_forward(x, w, b)\n",
    "dx, dw, db = affine_backward(dout, cache)\n",
    "\n",
    "# The error should be around 1e-10\n",
    "print('Testing affine_backward function:')\n",
    "print('dx error: ', rel_error(dx_num, dx))\n",
    "print('dw error: ', rel_error(dw_num, dw))\n",
    "print('db error: ', rel_error(db_num, db))"
   ]
  },
  {
   "cell_type": "markdown",
   "metadata": {
    "deletable": true,
    "editable": true
   },
   "source": [
    "# ReLU layer: forward\n",
    "Implement the forward pass for the ReLU activation function in the `relu_forward` function and test your implementation using the following:"
   ]
  },
  {
   "cell_type": "code",
   "execution_count": 5,
   "metadata": {
    "collapsed": false,
    "deletable": true,
    "editable": true
   },
   "outputs": [
    {
     "name": "stdout",
     "output_type": "stream",
     "text": [
      "Testing relu_forward function:\n",
      "difference:  4.99999979802e-08\n"
     ]
    }
   ],
   "source": [
    "# Test the relu_forward function\n",
    "\n",
    "x = np.linspace(-0.5, 0.5, num=12).reshape(3, 4)\n",
    "\n",
    "out, _ = relu_forward(x)\n",
    "correct_out = np.array([[ 0.,          0.,          0.,          0.,        ],\n",
    "                        [ 0.,          0.,          0.04545455,  0.13636364,],\n",
    "                        [ 0.22727273,  0.31818182,  0.40909091,  0.5,       ]])\n",
    "\n",
    "# Compare your output with ours. The error should be around 5e-8\n",
    "print('Testing relu_forward function:')\n",
    "print('difference: ', rel_error(out, correct_out))"
   ]
  },
  {
   "cell_type": "markdown",
   "metadata": {
    "deletable": true,
    "editable": true
   },
   "source": [
    "# ReLU layer: backward\n",
    "Now implement the backward pass for the ReLU activation function in the `relu_backward` function and test your implementation using numeric gradient checking:"
   ]
  },
  {
   "cell_type": "code",
   "execution_count": 6,
   "metadata": {
    "collapsed": false,
    "deletable": true,
    "editable": true
   },
   "outputs": [
    {
     "name": "stdout",
     "output_type": "stream",
     "text": [
      "Testing relu_backward function:\n",
      "dx error:  3.27563491363e-12\n"
     ]
    }
   ],
   "source": [
    "np.random.seed(231)\n",
    "x = np.random.randn(10, 10)\n",
    "dout = np.random.randn(*x.shape)\n",
    "\n",
    "dx_num = eval_numerical_gradient_array(lambda x: relu_forward(x)[0], x, dout)\n",
    "\n",
    "_, cache = relu_forward(x)\n",
    "dx = relu_backward(dout, cache)\n",
    "\n",
    "# The error should be around 3e-12\n",
    "print('Testing relu_backward function:')\n",
    "print('dx error: ', rel_error(dx_num, dx))"
   ]
  },
  {
   "cell_type": "markdown",
   "metadata": {
    "deletable": true,
    "editable": true
   },
   "source": [
    "# \"Sandwich\" layers\n",
    "There are some common patterns of layers that are frequently used in neural nets. For example, affine layers are frequently followed by a ReLU nonlinearity. To make these common patterns easy, we define several convenience layers in the file `cs231n/layer_utils.py`.\n",
    "\n",
    "For now take a look at the `affine_relu_forward` and `affine_relu_backward` functions, and run the following to numerically gradient check the backward pass:"
   ]
  },
  {
   "cell_type": "code",
   "execution_count": 7,
   "metadata": {
    "collapsed": false,
    "deletable": true,
    "editable": true
   },
   "outputs": [
    {
     "name": "stdout",
     "output_type": "stream",
     "text": [
      "Testing affine_relu_forward:\n",
      "dx error:  2.29957917731e-11\n",
      "dw error:  8.16201110576e-11\n",
      "db error:  7.82672402146e-12\n"
     ]
    }
   ],
   "source": [
    "from cs231n.layer_utils import affine_relu_forward, affine_relu_backward\n",
    "np.random.seed(231)\n",
    "x = np.random.randn(2, 3, 4)\n",
    "w = np.random.randn(12, 10)\n",
    "b = np.random.randn(10)\n",
    "dout = np.random.randn(2, 10)\n",
    "\n",
    "out, cache = affine_relu_forward(x, w, b)\n",
    "dx, dw, db = affine_relu_backward(dout, cache)\n",
    "\n",
    "dx_num = eval_numerical_gradient_array(lambda x: affine_relu_forward(x, w, b)[0], x, dout)\n",
    "dw_num = eval_numerical_gradient_array(lambda w: affine_relu_forward(x, w, b)[0], w, dout)\n",
    "db_num = eval_numerical_gradient_array(lambda b: affine_relu_forward(x, w, b)[0], b, dout)\n",
    "\n",
    "print('Testing affine_relu_forward:')\n",
    "print('dx error: ', rel_error(dx_num, dx))\n",
    "print('dw error: ', rel_error(dw_num, dw))\n",
    "print('db error: ', rel_error(db_num, db))"
   ]
  },
  {
   "cell_type": "markdown",
   "metadata": {
    "deletable": true,
    "editable": true
   },
   "source": [
    "# Loss layers: Softmax and SVM\n",
    "You implemented these loss functions in the last assignment, so we'll give them to you for free here. You should still make sure you understand how they work by looking at the implementations in `cs231n/layers.py`.\n",
    "\n",
    "You can make sure that the implementations are correct by running the following:"
   ]
  },
  {
   "cell_type": "code",
   "execution_count": 8,
   "metadata": {
    "collapsed": false,
    "deletable": true,
    "editable": true
   },
   "outputs": [
    {
     "name": "stdout",
     "output_type": "stream",
     "text": [
      "Testing svm_loss:\n",
      "loss:  8.9996027491\n",
      "dx error:  1.40215660067e-09\n",
      "\n",
      "Testing softmax_loss:\n",
      "loss:  2.3025458445\n",
      "dx error:  9.38467316199e-09\n"
     ]
    }
   ],
   "source": [
    "np.random.seed(231)\n",
    "num_classes, num_inputs = 10, 50\n",
    "x = 0.001 * np.random.randn(num_inputs, num_classes)\n",
    "y = np.random.randint(num_classes, size=num_inputs)\n",
    "\n",
    "dx_num = eval_numerical_gradient(lambda x: svm_loss(x, y)[0], x, verbose=False)\n",
    "loss, dx = svm_loss(x, y)\n",
    "\n",
    "# Test svm_loss function. Loss should be around 9 and dx error should be 1e-9\n",
    "print('Testing svm_loss:')\n",
    "print('loss: ', loss)\n",
    "print('dx error: ', rel_error(dx_num, dx))\n",
    "\n",
    "dx_num = eval_numerical_gradient(lambda x: softmax_loss(x, y)[0], x, verbose=False)\n",
    "loss, dx = softmax_loss(x, y)\n",
    "\n",
    "# Test softmax_loss function. Loss should be 2.3 and dx error should be 1e-8\n",
    "print('\\nTesting softmax_loss:')\n",
    "print('loss: ', loss)\n",
    "print('dx error: ', rel_error(dx_num, dx))"
   ]
  },
  {
   "cell_type": "markdown",
   "metadata": {
    "deletable": true,
    "editable": true
   },
   "source": [
    "# Two-layer network\n",
    "In the previous assignment you implemented a two-layer neural network in a single monolithic class. Now that you have implemented modular versions of the necessary layers, you will reimplement the two layer network using these modular implementations.\n",
    "\n",
    "Open the file `cs231n/classifiers/fc_net.py` and complete the implementation of the `TwoLayerNet` class. This class will serve as a model for the other networks you will implement in this assignment, so read through it to make sure you understand the API. You can run the cell below to test your implementation."
   ]
  },
  {
   "cell_type": "code",
   "execution_count": 9,
   "metadata": {
    "collapsed": false,
    "deletable": true,
    "editable": true
   },
   "outputs": [
    {
     "name": "stdout",
     "output_type": "stream",
     "text": [
      "Testing initialization ... \n",
      "Testing test-time forward pass ... \n",
      "Testing training loss (no regularization)\n",
      "Running numeric gradient check with reg =  0.0\n",
      "W1 relative error: 1.83e-08\n",
      "W2 relative error: 3.12e-10\n",
      "b1 relative error: 9.83e-09\n",
      "b2 relative error: 4.33e-10\n",
      "Running numeric gradient check with reg =  0.7\n",
      "W1 relative error: 2.53e-07\n",
      "W2 relative error: 2.85e-08\n",
      "b1 relative error: 1.56e-08\n",
      "b2 relative error: 7.76e-10\n"
     ]
    }
   ],
   "source": [
    "np.random.seed(231)\n",
    "N, D, H, C = 3, 5, 50, 7\n",
    "X = np.random.randn(N, D)\n",
    "y = np.random.randint(C, size=N)\n",
    "\n",
    "std = 1e-3\n",
    "model = TwoLayerNet(input_dim=D, hidden_dim=H, num_classes=C, weight_scale=std)\n",
    "\n",
    "print('Testing initialization ... ')\n",
    "W1_std = abs(model.params['W1'].std() - std)\n",
    "b1 = model.params['b1']\n",
    "W2_std = abs(model.params['W2'].std() - std)\n",
    "b2 = model.params['b2']\n",
    "assert W1_std < std / 10, 'First layer weights do not seem right'\n",
    "assert np.all(b1 == 0), 'First layer biases do not seem right'\n",
    "assert W2_std < std / 10, 'Second layer weights do not seem right'\n",
    "assert np.all(b2 == 0), 'Second layer biases do not seem right'\n",
    "\n",
    "print('Testing test-time forward pass ... ')\n",
    "model.params['W1'] = np.linspace(-0.7, 0.3, num=D*H).reshape(D, H)\n",
    "model.params['b1'] = np.linspace(-0.1, 0.9, num=H)\n",
    "model.params['W2'] = np.linspace(-0.3, 0.4, num=H*C).reshape(H, C)\n",
    "model.params['b2'] = np.linspace(-0.9, 0.1, num=C)\n",
    "X = np.linspace(-5.5, 4.5, num=N*D).reshape(D, N).T\n",
    "scores = model.loss(X)\n",
    "correct_scores = np.asarray(\n",
    "  [[11.53165108,  12.2917344,   13.05181771,  13.81190102,  14.57198434, 15.33206765,  16.09215096],\n",
    "   [12.05769098,  12.74614105,  13.43459113,  14.1230412,   14.81149128, 15.49994135,  16.18839143],\n",
    "   [12.58373087,  13.20054771,  13.81736455,  14.43418138,  15.05099822, 15.66781506,  16.2846319 ]])\n",
    "scores_diff = np.abs(scores - correct_scores).sum()\n",
    "assert scores_diff < 1e-6, 'Problem with test-time forward pass'\n",
    "\n",
    "print('Testing training loss (no regularization)')\n",
    "y = np.asarray([0, 5, 1])\n",
    "loss, grads = model.loss(X, y)\n",
    "correct_loss = 3.4702243556\n",
    "assert abs(loss - correct_loss) < 1e-10, 'Problem with training-time loss'\n",
    "\n",
    "model.reg = 1.0\n",
    "loss, grads = model.loss(X, y)\n",
    "correct_loss = 26.5948426952\n",
    "assert abs(loss - correct_loss) < 1e-10, 'Problem with regularization loss'\n",
    "\n",
    "for reg in [0.0, 0.7]:\n",
    "  print('Running numeric gradient check with reg = ', reg)\n",
    "  model.reg = reg\n",
    "  loss, grads = model.loss(X, y)\n",
    "\n",
    "  for name in sorted(grads):\n",
    "    f = lambda _: model.loss(X, y)[0]\n",
    "    grad_num = eval_numerical_gradient(f, model.params[name], verbose=False)\n",
    "    print('%s relative error: %.2e' % (name, rel_error(grad_num, grads[name])))"
   ]
  },
  {
   "cell_type": "markdown",
   "metadata": {
    "deletable": true,
    "editable": true
   },
   "source": [
    "# Solver\n",
    "In the previous assignment, the logic for training models was coupled to the models themselves. Following a more modular design, for this assignment we have split the logic for training models into a separate class.\n",
    "\n",
    "Open the file `cs231n/solver.py` and read through it to familiarize yourself with the API. After doing so, use a `Solver` instance to train a `TwoLayerNet` that achieves at least `50%` accuracy on the validation set."
   ]
  },
  {
   "cell_type": "code",
   "execution_count": 10,
   "metadata": {
    "collapsed": false,
    "deletable": true,
    "editable": true
   },
   "outputs": [
    {
     "name": "stdout",
     "output_type": "stream",
     "text": [
      "(Iteration 1 / 4900) loss: 2.304060\n",
      "(Epoch 0 / 10) train acc: 0.093000; val_acc: 0.067000\n",
      "(Iteration 11 / 4900) loss: 2.295603\n",
      "(Iteration 21 / 4900) loss: 2.279675\n",
      "(Iteration 31 / 4900) loss: 2.245009\n",
      "(Iteration 41 / 4900) loss: 2.218807\n",
      "(Iteration 51 / 4900) loss: 2.205745\n",
      "(Iteration 61 / 4900) loss: 2.165620\n",
      "(Iteration 71 / 4900) loss: 2.169152\n",
      "(Iteration 81 / 4900) loss: 2.094935\n",
      "(Iteration 91 / 4900) loss: 2.072119\n",
      "(Iteration 101 / 4900) loss: 1.988720\n",
      "(Iteration 111 / 4900) loss: 2.000614\n",
      "(Iteration 121 / 4900) loss: 1.951528\n",
      "(Iteration 131 / 4900) loss: 1.912659\n",
      "(Iteration 141 / 4900) loss: 1.982785\n",
      "(Iteration 151 / 4900) loss: 1.939300\n",
      "(Iteration 161 / 4900) loss: 1.924623\n",
      "(Iteration 171 / 4900) loss: 1.841022\n",
      "(Iteration 181 / 4900) loss: 1.837869\n",
      "(Iteration 191 / 4900) loss: 1.876696\n",
      "(Iteration 201 / 4900) loss: 1.994869\n",
      "(Iteration 211 / 4900) loss: 1.882465\n",
      "(Iteration 221 / 4900) loss: 1.902240\n",
      "(Iteration 231 / 4900) loss: 1.840553\n",
      "(Iteration 241 / 4900) loss: 1.674902\n",
      "(Iteration 251 / 4900) loss: 1.669005\n",
      "(Iteration 261 / 4900) loss: 1.844096\n",
      "(Iteration 271 / 4900) loss: 1.803009\n",
      "(Iteration 281 / 4900) loss: 1.875978\n",
      "(Iteration 291 / 4900) loss: 1.725599\n",
      "(Iteration 301 / 4900) loss: 1.910882\n",
      "(Iteration 311 / 4900) loss: 1.737924\n",
      "(Iteration 321 / 4900) loss: 1.683765\n",
      "(Iteration 331 / 4900) loss: 1.629688\n",
      "(Iteration 341 / 4900) loss: 1.859131\n",
      "(Iteration 351 / 4900) loss: 1.740441\n",
      "(Iteration 361 / 4900) loss: 1.963315\n",
      "(Iteration 371 / 4900) loss: 1.842437\n",
      "(Iteration 381 / 4900) loss: 1.785578\n",
      "(Iteration 391 / 4900) loss: 1.670484\n",
      "(Iteration 401 / 4900) loss: 1.669685\n",
      "(Iteration 411 / 4900) loss: 1.814163\n",
      "(Iteration 421 / 4900) loss: 1.683769\n",
      "(Iteration 431 / 4900) loss: 1.631770\n",
      "(Iteration 441 / 4900) loss: 1.685563\n",
      "(Iteration 451 / 4900) loss: 1.687573\n",
      "(Iteration 461 / 4900) loss: 1.613160\n",
      "(Iteration 471 / 4900) loss: 1.677197\n",
      "(Iteration 481 / 4900) loss: 1.569930\n",
      "(Epoch 1 / 10) train acc: 0.380000; val_acc: 0.401000\n",
      "(Iteration 491 / 4900) loss: 1.748784\n",
      "(Iteration 501 / 4900) loss: 1.561095\n",
      "(Iteration 511 / 4900) loss: 1.603083\n",
      "(Iteration 521 / 4900) loss: 1.784459\n",
      "(Iteration 531 / 4900) loss: 1.792309\n",
      "(Iteration 541 / 4900) loss: 1.657558\n",
      "(Iteration 551 / 4900) loss: 1.636474\n",
      "(Iteration 561 / 4900) loss: 1.554524\n",
      "(Iteration 571 / 4900) loss: 1.736814\n",
      "(Iteration 581 / 4900) loss: 1.588736\n",
      "(Iteration 591 / 4900) loss: 1.808401\n",
      "(Iteration 601 / 4900) loss: 1.765612\n",
      "(Iteration 611 / 4900) loss: 1.610323\n",
      "(Iteration 621 / 4900) loss: 1.545858\n",
      "(Iteration 631 / 4900) loss: 1.531180\n",
      "(Iteration 641 / 4900) loss: 1.710730\n",
      "(Iteration 651 / 4900) loss: 1.633753\n",
      "(Iteration 661 / 4900) loss: 1.629444\n",
      "(Iteration 671 / 4900) loss: 1.458246\n",
      "(Iteration 681 / 4900) loss: 1.726408\n",
      "(Iteration 691 / 4900) loss: 1.691424\n",
      "(Iteration 701 / 4900) loss: 1.732493\n",
      "(Iteration 711 / 4900) loss: 1.659706\n",
      "(Iteration 721 / 4900) loss: 1.575389\n",
      "(Iteration 731 / 4900) loss: 1.749535\n",
      "(Iteration 741 / 4900) loss: 1.448763\n",
      "(Iteration 751 / 4900) loss: 1.692509\n",
      "(Iteration 761 / 4900) loss: 1.620327\n",
      "(Iteration 771 / 4900) loss: 1.683904\n",
      "(Iteration 781 / 4900) loss: 1.713112\n",
      "(Iteration 791 / 4900) loss: 1.712551\n",
      "(Iteration 801 / 4900) loss: 1.705807\n",
      "(Iteration 811 / 4900) loss: 1.730269\n",
      "(Iteration 821 / 4900) loss: 1.566384\n",
      "(Iteration 831 / 4900) loss: 1.733948\n",
      "(Iteration 841 / 4900) loss: 1.511714\n",
      "(Iteration 851 / 4900) loss: 1.745879\n",
      "(Iteration 861 / 4900) loss: 1.425559\n",
      "(Iteration 871 / 4900) loss: 1.696716\n",
      "(Iteration 881 / 4900) loss: 1.523506\n",
      "(Iteration 891 / 4900) loss: 1.561458\n",
      "(Iteration 901 / 4900) loss: 1.579456\n",
      "(Iteration 911 / 4900) loss: 1.475006\n",
      "(Iteration 921 / 4900) loss: 1.558804\n",
      "(Iteration 931 / 4900) loss: 1.667160\n",
      "(Iteration 941 / 4900) loss: 1.590568\n",
      "(Iteration 951 / 4900) loss: 1.553077\n",
      "(Iteration 961 / 4900) loss: 1.522604\n",
      "(Iteration 971 / 4900) loss: 1.638407\n",
      "(Epoch 2 / 10) train acc: 0.455000; val_acc: 0.463000\n",
      "(Iteration 981 / 4900) loss: 1.637216\n",
      "(Iteration 991 / 4900) loss: 1.554983\n",
      "(Iteration 1001 / 4900) loss: 1.505279\n",
      "(Iteration 1011 / 4900) loss: 1.487831\n",
      "(Iteration 1021 / 4900) loss: 1.630185\n",
      "(Iteration 1031 / 4900) loss: 1.610688\n",
      "(Iteration 1041 / 4900) loss: 1.513578\n",
      "(Iteration 1051 / 4900) loss: 1.421350\n",
      "(Iteration 1061 / 4900) loss: 1.731767\n",
      "(Iteration 1071 / 4900) loss: 1.562331\n",
      "(Iteration 1081 / 4900) loss: 1.437399\n",
      "(Iteration 1091 / 4900) loss: 1.581871\n",
      "(Iteration 1101 / 4900) loss: 1.510302\n",
      "(Iteration 1111 / 4900) loss: 1.616402\n",
      "(Iteration 1121 / 4900) loss: 1.660547\n",
      "(Iteration 1131 / 4900) loss: 1.659251\n",
      "(Iteration 1141 / 4900) loss: 1.499257\n",
      "(Iteration 1151 / 4900) loss: 1.368052\n",
      "(Iteration 1161 / 4900) loss: 1.502717\n",
      "(Iteration 1171 / 4900) loss: 1.570172\n",
      "(Iteration 1181 / 4900) loss: 1.622077\n",
      "(Iteration 1191 / 4900) loss: 1.410512\n",
      "(Iteration 1201 / 4900) loss: 1.758571\n",
      "(Iteration 1211 / 4900) loss: 1.559772\n",
      "(Iteration 1221 / 4900) loss: 1.562937\n",
      "(Iteration 1231 / 4900) loss: 1.532352\n",
      "(Iteration 1241 / 4900) loss: 1.531329\n",
      "(Iteration 1251 / 4900) loss: 1.556607\n",
      "(Iteration 1261 / 4900) loss: 1.673340\n",
      "(Iteration 1271 / 4900) loss: 1.473420\n",
      "(Iteration 1281 / 4900) loss: 1.554782\n",
      "(Iteration 1291 / 4900) loss: 1.435131\n",
      "(Iteration 1301 / 4900) loss: 1.556890\n",
      "(Iteration 1311 / 4900) loss: 1.428162\n",
      "(Iteration 1321 / 4900) loss: 1.577814\n",
      "(Iteration 1331 / 4900) loss: 1.509910\n",
      "(Iteration 1341 / 4900) loss: 1.400835\n",
      "(Iteration 1351 / 4900) loss: 1.608283\n",
      "(Iteration 1361 / 4900) loss: 1.435769\n",
      "(Iteration 1371 / 4900) loss: 1.502957\n",
      "(Iteration 1381 / 4900) loss: 1.408079\n",
      "(Iteration 1391 / 4900) loss: 1.704399\n",
      "(Iteration 1401 / 4900) loss: 1.369165\n",
      "(Iteration 1411 / 4900) loss: 1.558602\n",
      "(Iteration 1421 / 4900) loss: 1.605418\n",
      "(Iteration 1431 / 4900) loss: 1.567996\n",
      "(Iteration 1441 / 4900) loss: 1.381912\n",
      "(Iteration 1451 / 4900) loss: 1.674645\n",
      "(Iteration 1461 / 4900) loss: 1.304598\n",
      "(Epoch 3 / 10) train acc: 0.478000; val_acc: 0.461000\n",
      "(Iteration 1471 / 4900) loss: 1.385392\n",
      "(Iteration 1481 / 4900) loss: 1.473075\n",
      "(Iteration 1491 / 4900) loss: 1.408140\n",
      "(Iteration 1501 / 4900) loss: 1.431372\n",
      "(Iteration 1511 / 4900) loss: 1.394224\n",
      "(Iteration 1521 / 4900) loss: 1.430825\n",
      "(Iteration 1531 / 4900) loss: 1.548385\n",
      "(Iteration 1541 / 4900) loss: 1.353037\n",
      "(Iteration 1551 / 4900) loss: 1.413051\n",
      "(Iteration 1561 / 4900) loss: 1.184994\n",
      "(Iteration 1571 / 4900) loss: 1.612945\n",
      "(Iteration 1581 / 4900) loss: 1.418131\n",
      "(Iteration 1591 / 4900) loss: 1.606509\n",
      "(Iteration 1601 / 4900) loss: 1.457443\n",
      "(Iteration 1611 / 4900) loss: 1.439711\n",
      "(Iteration 1621 / 4900) loss: 1.509848\n",
      "(Iteration 1631 / 4900) loss: 1.588124\n",
      "(Iteration 1641 / 4900) loss: 1.342560\n",
      "(Iteration 1651 / 4900) loss: 1.343476\n",
      "(Iteration 1661 / 4900) loss: 1.486600\n",
      "(Iteration 1671 / 4900) loss: 1.375945\n",
      "(Iteration 1681 / 4900) loss: 1.472137\n",
      "(Iteration 1691 / 4900) loss: 1.539710\n",
      "(Iteration 1701 / 4900) loss: 1.351485\n",
      "(Iteration 1711 / 4900) loss: 1.602593\n",
      "(Iteration 1721 / 4900) loss: 1.368490\n",
      "(Iteration 1731 / 4900) loss: 1.380180\n",
      "(Iteration 1741 / 4900) loss: 1.554123\n",
      "(Iteration 1751 / 4900) loss: 1.396941\n",
      "(Iteration 1761 / 4900) loss: 1.636210\n",
      "(Iteration 1771 / 4900) loss: 1.679802\n",
      "(Iteration 1781 / 4900) loss: 1.305277\n",
      "(Iteration 1791 / 4900) loss: 1.539152\n",
      "(Iteration 1801 / 4900) loss: 1.509384\n",
      "(Iteration 1811 / 4900) loss: 1.459547\n",
      "(Iteration 1821 / 4900) loss: 1.227830\n",
      "(Iteration 1831 / 4900) loss: 1.604828\n",
      "(Iteration 1841 / 4900) loss: 1.397690\n",
      "(Iteration 1851 / 4900) loss: 1.465952\n",
      "(Iteration 1861 / 4900) loss: 1.324707\n",
      "(Iteration 1871 / 4900) loss: 1.399737\n",
      "(Iteration 1881 / 4900) loss: 1.375350\n",
      "(Iteration 1891 / 4900) loss: 1.534368\n",
      "(Iteration 1901 / 4900) loss: 1.432423\n",
      "(Iteration 1911 / 4900) loss: 1.470275\n",
      "(Iteration 1921 / 4900) loss: 1.320184\n",
      "(Iteration 1931 / 4900) loss: 1.446684\n",
      "(Iteration 1941 / 4900) loss: 1.173268\n",
      "(Iteration 1951 / 4900) loss: 1.354545\n",
      "(Epoch 4 / 10) train acc: 0.512000; val_acc: 0.484000\n",
      "(Iteration 1961 / 4900) loss: 1.554537\n",
      "(Iteration 1971 / 4900) loss: 1.331453\n",
      "(Iteration 1981 / 4900) loss: 1.317470\n",
      "(Iteration 1991 / 4900) loss: 1.421526\n",
      "(Iteration 2001 / 4900) loss: 1.515774\n",
      "(Iteration 2011 / 4900) loss: 1.522904\n",
      "(Iteration 2021 / 4900) loss: 1.423704\n",
      "(Iteration 2031 / 4900) loss: 1.343728\n",
      "(Iteration 2041 / 4900) loss: 1.274081\n",
      "(Iteration 2051 / 4900) loss: 1.379094\n",
      "(Iteration 2061 / 4900) loss: 1.366880\n",
      "(Iteration 2071 / 4900) loss: 1.547944\n",
      "(Iteration 2081 / 4900) loss: 1.485881\n",
      "(Iteration 2091 / 4900) loss: 1.512354\n",
      "(Iteration 2101 / 4900) loss: 1.389787\n",
      "(Iteration 2111 / 4900) loss: 1.381413\n",
      "(Iteration 2121 / 4900) loss: 1.489386\n",
      "(Iteration 2131 / 4900) loss: 1.595092\n",
      "(Iteration 2141 / 4900) loss: 1.486757\n",
      "(Iteration 2151 / 4900) loss: 1.516707\n",
      "(Iteration 2161 / 4900) loss: 1.369841\n",
      "(Iteration 2171 / 4900) loss: 1.278132\n",
      "(Iteration 2181 / 4900) loss: 1.414997\n",
      "(Iteration 2191 / 4900) loss: 1.707407\n",
      "(Iteration 2201 / 4900) loss: 1.378505\n",
      "(Iteration 2211 / 4900) loss: 1.391106\n",
      "(Iteration 2221 / 4900) loss: 1.421779\n",
      "(Iteration 2231 / 4900) loss: 1.576591\n",
      "(Iteration 2241 / 4900) loss: 1.452315\n",
      "(Iteration 2251 / 4900) loss: 1.484422\n",
      "(Iteration 2261 / 4900) loss: 1.454722\n",
      "(Iteration 2271 / 4900) loss: 1.559218\n",
      "(Iteration 2281 / 4900) loss: 1.277071\n",
      "(Iteration 2291 / 4900) loss: 1.375053\n",
      "(Iteration 2301 / 4900) loss: 1.397067\n",
      "(Iteration 2311 / 4900) loss: 1.134413\n",
      "(Iteration 2321 / 4900) loss: 1.380565\n",
      "(Iteration 2331 / 4900) loss: 1.464850\n",
      "(Iteration 2341 / 4900) loss: 1.519952\n",
      "(Iteration 2351 / 4900) loss: 1.268222\n",
      "(Iteration 2361 / 4900) loss: 1.443691\n",
      "(Iteration 2371 / 4900) loss: 1.292961\n",
      "(Iteration 2381 / 4900) loss: 1.361858\n",
      "(Iteration 2391 / 4900) loss: 1.406754\n",
      "(Iteration 2401 / 4900) loss: 1.406059\n",
      "(Iteration 2411 / 4900) loss: 1.461822\n",
      "(Iteration 2421 / 4900) loss: 1.596562\n",
      "(Iteration 2431 / 4900) loss: 1.475571\n",
      "(Iteration 2441 / 4900) loss: 1.294289\n",
      "(Epoch 5 / 10) train acc: 0.518000; val_acc: 0.500000\n",
      "(Iteration 2451 / 4900) loss: 1.490311\n",
      "(Iteration 2461 / 4900) loss: 1.327240\n",
      "(Iteration 2471 / 4900) loss: 1.465661\n",
      "(Iteration 2481 / 4900) loss: 1.337013\n",
      "(Iteration 2491 / 4900) loss: 1.230806\n",
      "(Iteration 2501 / 4900) loss: 1.532074\n",
      "(Iteration 2511 / 4900) loss: 1.424976\n",
      "(Iteration 2521 / 4900) loss: 1.282820\n",
      "(Iteration 2531 / 4900) loss: 1.366915\n",
      "(Iteration 2541 / 4900) loss: 1.451418\n",
      "(Iteration 2551 / 4900) loss: 1.292762\n",
      "(Iteration 2561 / 4900) loss: 1.246575\n",
      "(Iteration 2571 / 4900) loss: 1.302618\n",
      "(Iteration 2581 / 4900) loss: 1.303576\n",
      "(Iteration 2591 / 4900) loss: 1.212871\n",
      "(Iteration 2601 / 4900) loss: 1.372117\n",
      "(Iteration 2611 / 4900) loss: 1.294621\n",
      "(Iteration 2621 / 4900) loss: 1.263795\n",
      "(Iteration 2631 / 4900) loss: 1.455537\n",
      "(Iteration 2641 / 4900) loss: 1.275355\n",
      "(Iteration 2651 / 4900) loss: 1.242199\n",
      "(Iteration 2661 / 4900) loss: 1.361363\n",
      "(Iteration 2671 / 4900) loss: 1.328035\n",
      "(Iteration 2681 / 4900) loss: 1.251670\n",
      "(Iteration 2691 / 4900) loss: 1.447617\n",
      "(Iteration 2701 / 4900) loss: 1.203178\n",
      "(Iteration 2711 / 4900) loss: 1.251810\n",
      "(Iteration 2721 / 4900) loss: 1.292960\n",
      "(Iteration 2731 / 4900) loss: 1.473383\n",
      "(Iteration 2741 / 4900) loss: 1.297195\n",
      "(Iteration 2751 / 4900) loss: 1.192801\n",
      "(Iteration 2761 / 4900) loss: 1.268386\n",
      "(Iteration 2771 / 4900) loss: 1.383556\n",
      "(Iteration 2781 / 4900) loss: 1.340589\n",
      "(Iteration 2791 / 4900) loss: 1.301938\n",
      "(Iteration 2801 / 4900) loss: 1.345080\n",
      "(Iteration 2811 / 4900) loss: 1.298652\n",
      "(Iteration 2821 / 4900) loss: 1.300882\n",
      "(Iteration 2831 / 4900) loss: 1.183227\n",
      "(Iteration 2841 / 4900) loss: 1.394136\n",
      "(Iteration 2851 / 4900) loss: 1.299243\n",
      "(Iteration 2861 / 4900) loss: 1.184518\n",
      "(Iteration 2871 / 4900) loss: 1.585628\n",
      "(Iteration 2881 / 4900) loss: 1.323609\n",
      "(Iteration 2891 / 4900) loss: 1.302143\n",
      "(Iteration 2901 / 4900) loss: 1.336453\n",
      "(Iteration 2911 / 4900) loss: 1.258599\n",
      "(Iteration 2921 / 4900) loss: 1.263455\n",
      "(Iteration 2931 / 4900) loss: 1.266347\n",
      "(Epoch 6 / 10) train acc: 0.523000; val_acc: 0.500000\n",
      "(Iteration 2941 / 4900) loss: 1.324608\n",
      "(Iteration 2951 / 4900) loss: 1.282567\n",
      "(Iteration 2961 / 4900) loss: 1.501809\n",
      "(Iteration 2971 / 4900) loss: 1.354651\n",
      "(Iteration 2981 / 4900) loss: 1.473094\n",
      "(Iteration 2991 / 4900) loss: 1.176583\n",
      "(Iteration 3001 / 4900) loss: 1.357816\n",
      "(Iteration 3011 / 4900) loss: 1.311301\n",
      "(Iteration 3021 / 4900) loss: 1.334437\n",
      "(Iteration 3031 / 4900) loss: 1.204799\n",
      "(Iteration 3041 / 4900) loss: 1.349190\n",
      "(Iteration 3051 / 4900) loss: 1.242394\n",
      "(Iteration 3061 / 4900) loss: 1.405278\n",
      "(Iteration 3071 / 4900) loss: 1.355424\n",
      "(Iteration 3081 / 4900) loss: 1.453381\n",
      "(Iteration 3091 / 4900) loss: 1.531241\n",
      "(Iteration 3101 / 4900) loss: 1.430239\n",
      "(Iteration 3111 / 4900) loss: 1.437138\n",
      "(Iteration 3121 / 4900) loss: 1.125705\n",
      "(Iteration 3131 / 4900) loss: 1.248539\n",
      "(Iteration 3141 / 4900) loss: 1.306040\n",
      "(Iteration 3151 / 4900) loss: 1.303299\n",
      "(Iteration 3161 / 4900) loss: 1.303931\n",
      "(Iteration 3171 / 4900) loss: 1.623165\n",
      "(Iteration 3181 / 4900) loss: 1.161735\n",
      "(Iteration 3191 / 4900) loss: 1.238903\n",
      "(Iteration 3201 / 4900) loss: 1.364099\n",
      "(Iteration 3211 / 4900) loss: 1.187932\n",
      "(Iteration 3221 / 4900) loss: 1.281640\n",
      "(Iteration 3231 / 4900) loss: 1.416635\n",
      "(Iteration 3241 / 4900) loss: 1.222149\n",
      "(Iteration 3251 / 4900) loss: 1.062403\n",
      "(Iteration 3261 / 4900) loss: 1.256892\n",
      "(Iteration 3271 / 4900) loss: 1.576070\n",
      "(Iteration 3281 / 4900) loss: 1.420300\n",
      "(Iteration 3291 / 4900) loss: 1.313360\n",
      "(Iteration 3301 / 4900) loss: 1.354557\n",
      "(Iteration 3311 / 4900) loss: 1.325516\n",
      "(Iteration 3321 / 4900) loss: 1.466834\n",
      "(Iteration 3331 / 4900) loss: 1.227819\n",
      "(Iteration 3341 / 4900) loss: 1.213450\n",
      "(Iteration 3351 / 4900) loss: 1.361499\n",
      "(Iteration 3361 / 4900) loss: 1.481475\n",
      "(Iteration 3371 / 4900) loss: 1.274665\n",
      "(Iteration 3381 / 4900) loss: 1.305949\n",
      "(Iteration 3391 / 4900) loss: 1.332437\n",
      "(Iteration 3401 / 4900) loss: 1.430466\n",
      "(Iteration 3411 / 4900) loss: 1.437013\n",
      "(Iteration 3421 / 4900) loss: 1.123841\n",
      "(Epoch 7 / 10) train acc: 0.532000; val_acc: 0.502000\n",
      "(Iteration 3431 / 4900) loss: 1.577669\n",
      "(Iteration 3441 / 4900) loss: 1.248959\n",
      "(Iteration 3451 / 4900) loss: 1.325633\n",
      "(Iteration 3461 / 4900) loss: 1.513620\n",
      "(Iteration 3471 / 4900) loss: 1.149232\n",
      "(Iteration 3481 / 4900) loss: 1.522569\n",
      "(Iteration 3491 / 4900) loss: 1.387489\n",
      "(Iteration 3501 / 4900) loss: 1.327163\n",
      "(Iteration 3511 / 4900) loss: 1.319688\n",
      "(Iteration 3521 / 4900) loss: 1.267991\n",
      "(Iteration 3531 / 4900) loss: 1.267552\n",
      "(Iteration 3541 / 4900) loss: 1.453787\n",
      "(Iteration 3551 / 4900) loss: 1.097680\n",
      "(Iteration 3561 / 4900) loss: 1.331580\n",
      "(Iteration 3571 / 4900) loss: 1.101370\n",
      "(Iteration 3581 / 4900) loss: 1.149937\n",
      "(Iteration 3591 / 4900) loss: 1.126921\n",
      "(Iteration 3601 / 4900) loss: 1.243852\n",
      "(Iteration 3611 / 4900) loss: 1.358368\n",
      "(Iteration 3621 / 4900) loss: 1.235491\n",
      "(Iteration 3631 / 4900) loss: 1.391141\n",
      "(Iteration 3641 / 4900) loss: 1.376880\n",
      "(Iteration 3651 / 4900) loss: 1.405545\n",
      "(Iteration 3661 / 4900) loss: 1.210839\n",
      "(Iteration 3671 / 4900) loss: 1.355135\n",
      "(Iteration 3681 / 4900) loss: 1.337169\n",
      "(Iteration 3691 / 4900) loss: 1.360001\n",
      "(Iteration 3701 / 4900) loss: 1.314883\n",
      "(Iteration 3711 / 4900) loss: 1.430673\n",
      "(Iteration 3721 / 4900) loss: 1.386118\n",
      "(Iteration 3731 / 4900) loss: 1.173272\n",
      "(Iteration 3741 / 4900) loss: 1.217113\n",
      "(Iteration 3751 / 4900) loss: 1.194703\n",
      "(Iteration 3761 / 4900) loss: 1.166701\n",
      "(Iteration 3771 / 4900) loss: 1.459634\n",
      "(Iteration 3781 / 4900) loss: 1.159957\n",
      "(Iteration 3791 / 4900) loss: 1.444177\n",
      "(Iteration 3801 / 4900) loss: 1.213272\n",
      "(Iteration 3811 / 4900) loss: 1.225817\n",
      "(Iteration 3821 / 4900) loss: 1.127929\n",
      "(Iteration 3831 / 4900) loss: 1.272503\n",
      "(Iteration 3841 / 4900) loss: 1.222654\n",
      "(Iteration 3851 / 4900) loss: 1.290892\n",
      "(Iteration 3861 / 4900) loss: 1.350958\n",
      "(Iteration 3871 / 4900) loss: 1.236516\n",
      "(Iteration 3881 / 4900) loss: 1.064326\n",
      "(Iteration 3891 / 4900) loss: 1.217712\n",
      "(Iteration 3901 / 4900) loss: 1.237667\n",
      "(Iteration 3911 / 4900) loss: 1.230920\n",
      "(Epoch 8 / 10) train acc: 0.543000; val_acc: 0.501000\n",
      "(Iteration 3921 / 4900) loss: 1.243166\n",
      "(Iteration 3931 / 4900) loss: 1.277545\n",
      "(Iteration 3941 / 4900) loss: 1.152309\n",
      "(Iteration 3951 / 4900) loss: 1.344388\n",
      "(Iteration 3961 / 4900) loss: 1.245317\n",
      "(Iteration 3971 / 4900) loss: 1.428336\n",
      "(Iteration 3981 / 4900) loss: 1.246587\n",
      "(Iteration 3991 / 4900) loss: 1.412679\n",
      "(Iteration 4001 / 4900) loss: 1.344868\n",
      "(Iteration 4011 / 4900) loss: 1.450084\n",
      "(Iteration 4021 / 4900) loss: 1.453375\n",
      "(Iteration 4031 / 4900) loss: 1.221435\n",
      "(Iteration 4041 / 4900) loss: 1.224819\n",
      "(Iteration 4051 / 4900) loss: 1.285190\n",
      "(Iteration 4061 / 4900) loss: 1.337842\n",
      "(Iteration 4071 / 4900) loss: 1.175649\n",
      "(Iteration 4081 / 4900) loss: 1.432185\n",
      "(Iteration 4091 / 4900) loss: 1.425939\n",
      "(Iteration 4101 / 4900) loss: 1.417441\n",
      "(Iteration 4111 / 4900) loss: 1.312757\n",
      "(Iteration 4121 / 4900) loss: 1.576426\n",
      "(Iteration 4131 / 4900) loss: 1.390915\n",
      "(Iteration 4141 / 4900) loss: 1.398677\n",
      "(Iteration 4151 / 4900) loss: 1.203047\n",
      "(Iteration 4161 / 4900) loss: 1.155375\n",
      "(Iteration 4171 / 4900) loss: 1.139735\n",
      "(Iteration 4181 / 4900) loss: 1.563528\n",
      "(Iteration 4191 / 4900) loss: 1.136303\n",
      "(Iteration 4201 / 4900) loss: 1.278775\n",
      "(Iteration 4211 / 4900) loss: 1.289289\n",
      "(Iteration 4221 / 4900) loss: 1.154373\n",
      "(Iteration 4231 / 4900) loss: 1.154951\n",
      "(Iteration 4241 / 4900) loss: 1.123298\n",
      "(Iteration 4251 / 4900) loss: 1.320988\n",
      "(Iteration 4261 / 4900) loss: 0.971308\n",
      "(Iteration 4271 / 4900) loss: 1.334461\n",
      "(Iteration 4281 / 4900) loss: 1.375831\n",
      "(Iteration 4291 / 4900) loss: 1.283359\n",
      "(Iteration 4301 / 4900) loss: 1.199637\n",
      "(Iteration 4311 / 4900) loss: 1.101483\n",
      "(Iteration 4321 / 4900) loss: 1.141500\n",
      "(Iteration 4331 / 4900) loss: 1.255151\n",
      "(Iteration 4341 / 4900) loss: 1.148202\n",
      "(Iteration 4351 / 4900) loss: 1.130588\n",
      "(Iteration 4361 / 4900) loss: 1.360624\n",
      "(Iteration 4371 / 4900) loss: 1.207027\n",
      "(Iteration 4381 / 4900) loss: 1.148762\n",
      "(Iteration 4391 / 4900) loss: 1.236944\n",
      "(Iteration 4401 / 4900) loss: 1.431367\n",
      "(Epoch 9 / 10) train acc: 0.561000; val_acc: 0.518000\n",
      "(Iteration 4411 / 4900) loss: 1.173788\n",
      "(Iteration 4421 / 4900) loss: 1.066126\n",
      "(Iteration 4431 / 4900) loss: 1.247052\n",
      "(Iteration 4441 / 4900) loss: 1.141999\n",
      "(Iteration 4451 / 4900) loss: 1.132498\n",
      "(Iteration 4461 / 4900) loss: 1.266173\n",
      "(Iteration 4471 / 4900) loss: 1.528648\n",
      "(Iteration 4481 / 4900) loss: 1.035614\n",
      "(Iteration 4491 / 4900) loss: 1.114264\n",
      "(Iteration 4501 / 4900) loss: 1.103497\n",
      "(Iteration 4511 / 4900) loss: 1.113357\n",
      "(Iteration 4521 / 4900) loss: 1.204634\n",
      "(Iteration 4531 / 4900) loss: 1.156572\n",
      "(Iteration 4541 / 4900) loss: 1.193758\n",
      "(Iteration 4551 / 4900) loss: 1.159831\n",
      "(Iteration 4561 / 4900) loss: 1.093028\n",
      "(Iteration 4571 / 4900) loss: 1.276168\n",
      "(Iteration 4581 / 4900) loss: 1.110092\n",
      "(Iteration 4591 / 4900) loss: 1.387464\n",
      "(Iteration 4601 / 4900) loss: 1.365946\n",
      "(Iteration 4611 / 4900) loss: 1.313477\n",
      "(Iteration 4621 / 4900) loss: 1.127686\n",
      "(Iteration 4631 / 4900) loss: 1.253762\n",
      "(Iteration 4641 / 4900) loss: 1.084994\n",
      "(Iteration 4651 / 4900) loss: 1.310673\n",
      "(Iteration 4661 / 4900) loss: 1.237693\n",
      "(Iteration 4671 / 4900) loss: 1.221579\n",
      "(Iteration 4681 / 4900) loss: 1.282582\n",
      "(Iteration 4691 / 4900) loss: 1.073514\n",
      "(Iteration 4701 / 4900) loss: 1.175277\n",
      "(Iteration 4711 / 4900) loss: 1.132983\n",
      "(Iteration 4721 / 4900) loss: 1.441041\n",
      "(Iteration 4731 / 4900) loss: 1.132223\n",
      "(Iteration 4741 / 4900) loss: 1.255594\n",
      "(Iteration 4751 / 4900) loss: 1.137269\n",
      "(Iteration 4761 / 4900) loss: 1.400136\n",
      "(Iteration 4771 / 4900) loss: 1.276130\n",
      "(Iteration 4781 / 4900) loss: 1.474950\n",
      "(Iteration 4791 / 4900) loss: 1.175083\n",
      "(Iteration 4801 / 4900) loss: 1.128136\n",
      "(Iteration 4811 / 4900) loss: 1.238982\n",
      "(Iteration 4821 / 4900) loss: 1.226742\n",
      "(Iteration 4831 / 4900) loss: 1.270831\n",
      "(Iteration 4841 / 4900) loss: 1.341741\n",
      "(Iteration 4851 / 4900) loss: 1.168092\n",
      "(Iteration 4861 / 4900) loss: 1.393932\n",
      "(Iteration 4871 / 4900) loss: 1.370063\n",
      "(Iteration 4881 / 4900) loss: 1.232389\n",
      "(Iteration 4891 / 4900) loss: 1.398764\n",
      "(Epoch 10 / 10) train acc: 0.576000; val_acc: 0.520000\n"
     ]
    }
   ],
   "source": [
    "model = TwoLayerNet()\n",
    "solver = None\n",
    "\n",
    "##############################################################################\n",
    "# TODO: Use a Solver instance to train a TwoLayerNet that achieves at least  #\n",
    "# 50% accuracy on the validation set.                                        #\n",
    "##############################################################################\n",
    "#TwoLayerNet(input_dim=D, hidden_dim=H, num_classes=C, weight_scale=std)\n",
    "solver = Solver(model, data, \n",
    "                update_rule='sgd',\n",
    "                optim_config={\n",
    "                    'learning_rate': 3e-4,\n",
    "                })\n",
    "solver.train()\n",
    "##############################################################################\n",
    "#                             END OF YOUR CODE                               #\n",
    "##############################################################################"
   ]
  },
  {
   "cell_type": "code",
   "execution_count": 11,
   "metadata": {
    "collapsed": false,
    "deletable": true,
    "editable": true
   },
   "outputs": [
    {
     "data": {
      "image/png": "[encoded data removed]",
      "text/plain": [
       "<matplotlib.figure.Figure at 0x7f0ec43e1110>"
      ]
     },
     "metadata": {},
     "output_type": "display_data"
    }
   ],
   "source": [
    "# Run this cell to visualize training loss and train / val accuracy\n",
    "\n",
    "plt.subplot(2, 1, 1)\n",
    "plt.title('Training loss')\n",
    "plt.plot(solver.loss_history, 'o')\n",
    "plt.xlabel('Iteration')\n",
    "\n",
    "plt.subplot(2, 1, 2)\n",
    "plt.title('Accuracy')\n",
    "plt.plot(solver.train_acc_history, '-o', label='train')\n",
    "plt.plot(solver.val_acc_history, '-o', label='val')\n",
    "plt.plot([0.5] * len(solver.val_acc_history), 'k--')\n",
    "plt.xlabel('Epoch')\n",
    "plt.legend(loc='lower right')\n",
    "plt.gcf().set_size_inches(15, 12)\n",
    "plt.show()"
   ]
  },
  {
   "cell_type": "markdown",
   "metadata": {
    "deletable": true,
    "editable": true
   },
   "source": [
    "# Multilayer network\n",
    "Next you will implement a fully-connected network with an arbitrary number of hidden layers.\n",
    "\n",
    "Read through the `FullyConnectedNet` class in the file `cs231n/classifiers/fc_net.py`.\n",
    "\n",
    "Implement the initialization, the forward pass, and the backward pass. For the moment don't worry about implementing dropout or batch normalization; we will add those features soon."
   ]
  },
  {
   "cell_type": "markdown",
   "metadata": {
    "deletable": true,
    "editable": true
   },
   "source": [
    "## Initial loss and gradient check"
   ]
  },
  {
   "cell_type": "markdown",
   "metadata": {
    "deletable": true,
    "editable": true
   },
   "source": [
    "As a sanity check, run the following to check the initial loss and to gradient check the network both with and without regularization. Do the initial losses seem reasonable?\n",
    "\n",
    "For gradient checking, you should expect to see errors around 1e-6 or less."
   ]
  },
  {
   "cell_type": "code",
   "execution_count": 12,
   "metadata": {
    "collapsed": false,
    "deletable": true,
    "editable": true
   },
   "outputs": [
    {
     "name": "stdout",
     "output_type": "stream",
     "text": [
      "Running check with reg =  0\n",
      "Initial loss:  2.30047908977\n",
      "W1 relative error: 1.48e-07\n",
      "W2 relative error: 2.21e-05\n",
      "W3 relative error: 3.53e-07\n",
      "b1 relative error: 5.38e-09\n",
      "b2 relative error: 2.09e-09\n",
      "b3 relative error: 5.80e-11\n",
      "Running check with reg =  3.14\n",
      "Initial loss:  7.05211477653\n",
      "W1 relative error: 3.90e-09\n",
      "W2 relative error: 6.87e-08\n",
      "W3 relative error: 2.13e-08\n",
      "b1 relative error: 1.48e-08\n",
      "b2 relative error: 1.72e-09\n",
      "b3 relative error: 1.57e-10\n"
     ]
    }
   ],
   "source": [
    "np.random.seed(231)\n",
    "N, D, H1, H2, C = 2, 15, 20, 30, 10\n",
    "X = np.random.randn(N, D)\n",
    "y = np.random.randint(C, size=(N,))\n",
    "\n",
    "for reg in [0, 3.14]:\n",
    "  print('Running check with reg = ', reg)\n",
    "  model = FullyConnectedNet([H1, H2], input_dim=D, num_classes=C,\n",
    "                            reg=reg, weight_scale=5e-2, dtype=np.float64)\n",
    "\n",
    "  loss, grads = model.loss(X, y)\n",
    "  print('Initial loss: ', loss)\n",
    "\n",
    "  for name in sorted(grads):\n",
    "    f = lambda _: model.loss(X, y)[0]\n",
    "    grad_num = eval_numerical_gradient(f, model.params[name], verbose=False, h=1e-5)\n",
    "    print('%s relative error: %.2e' % (name, rel_error(grad_num, grads[name])))"
   ]
  },
  {
   "cell_type": "markdown",
   "metadata": {
    "deletable": true,
    "editable": true
   },
   "source": [
    "As another sanity check, make sure you can overfit a small dataset of 50 images. First we will try a three-layer network with 100 units in each hidden layer. You will need to tweak the learning rate and initialization scale, but you should be able to overfit and achieve 100% training accuracy within 20 epochs."
   ]
  },
  {
   "cell_type": "code",
   "execution_count": 5,
   "metadata": {
    "collapsed": false,
    "deletable": true,
    "editable": true,
    "scrolled": true
   },
   "outputs": [
    {
     "name": "stdout",
     "output_type": "stream",
     "text": [
      "(Iteration 1 / 40) loss: 2.343047\n",
      "(Epoch 0 / 20) train acc: 0.160000; val_acc: 0.110000\n",
      "(Epoch 1 / 20) train acc: 0.160000; val_acc: 0.110000\n",
      "(Epoch 2 / 20) train acc: 0.160000; val_acc: 0.111000\n",
      "(Epoch 3 / 20) train acc: 0.160000; val_acc: 0.112000\n",
      "(Epoch 4 / 20) train acc: 0.160000; val_acc: 0.112000\n",
      "(Epoch 5 / 20) train acc: 0.160000; val_acc: 0.112000\n",
      "(Iteration 11 / 40) loss: 2.350088\n",
      "(Epoch 6 / 20) train acc: 0.160000; val_acc: 0.117000\n",
      "(Epoch 7 / 20) train acc: 0.160000; val_acc: 0.113000\n",
      "(Epoch 8 / 20) train acc: 0.180000; val_acc: 0.116000\n",
      "(Epoch 9 / 20) train acc: 0.200000; val_acc: 0.116000\n",
      "(Epoch 10 / 20) train acc: 0.200000; val_acc: 0.117000\n",
      "(Iteration 21 / 40) loss: 2.275114\n",
      "(Epoch 11 / 20) train acc: 0.200000; val_acc: 0.118000\n",
      "(Epoch 12 / 20) train acc: 0.200000; val_acc: 0.119000\n",
      "(Epoch 13 / 20) train acc: 0.200000; val_acc: 0.120000\n",
      "(Epoch 14 / 20) train acc: 0.220000; val_acc: 0.120000\n",
      "(Epoch 15 / 20) train acc: 0.220000; val_acc: 0.117000\n",
      "(Iteration 31 / 40) loss: 2.246998\n",
      "(Epoch 16 / 20) train acc: 0.220000; val_acc: 0.116000\n",
      "(Epoch 17 / 20) train acc: 0.240000; val_acc: 0.117000\n",
      "(Epoch 18 / 20) train acc: 0.240000; val_acc: 0.115000\n",
      "(Epoch 19 / 20) train acc: 0.220000; val_acc: 0.115000\n",
      "(Epoch 20 / 20) train acc: 0.240000; val_acc: 0.117000\n"
     ]
    },
    {
     "data": {
      "image/png": "[encoded data removed]",
      "text/plain": [
       "<matplotlib.figure.Figure at 0x7f69d1b88550>"
      ]
     },
     "metadata": {},
     "output_type": "display_data"
    }
   ],
   "source": [
    "# TODO: Use a three-layer Net to overfit 50 training examples.\n",
    "\n",
    "num_train = 50\n",
    "small_data = {\n",
    "  'X_train': data['X_train'][:num_train],\n",
    "  'y_train': data['y_train'][:num_train],\n",
    "  'X_val': data['X_val'],\n",
    "  'y_val': data['y_val'],\n",
    "}\n",
    "\n",
    "weight_scale = 1e-2\n",
    "learning_rate = 1e-4\n",
    "model = FullyConnectedNet([100, 100],\n",
    "              weight_scale=weight_scale, dtype=np.float64)\n",
    "solver = Solver(model, small_data,\n",
    "                print_every=10, num_epochs=20, batch_size=25,\n",
    "                update_rule='sgd',\n",
    "                optim_config={\n",
    "                  'learning_rate': learning_rate,\n",
    "                }\n",
    "         )\n",
    "solver.train()\n",
    "\n",
    "plt.plot(solver.loss_history, 'o')\n",
    "plt.title('Training loss history')\n",
    "plt.xlabel('Iteration')\n",
    "plt.ylabel('Training loss')\n",
    "plt.show()"
   ]
  },
  {
   "cell_type": "markdown",
   "metadata": {
    "deletable": true,
    "editable": true
   },
   "source": [
    "Now try to use a five-layer network with 100 units on each layer to overfit 50 training examples. Again you will have to adjust the learning rate and weight initialization, but you should be able to achieve 100% training accuracy within 20 epochs."
   ]
  },
  {
   "cell_type": "code",
   "execution_count": 14,
   "metadata": {
    "collapsed": false,
    "deletable": true,
    "editable": true
   },
   "outputs": [
    {
     "name": "stdout",
     "output_type": "stream",
     "text": [
      "(Iteration 1 / 40) loss: 2.302585\n",
      "(Epoch 0 / 20) train acc: 0.160000; val_acc: 0.079000\n",
      "(Epoch 1 / 20) train acc: 0.160000; val_acc: 0.079000\n",
      "(Epoch 2 / 20) train acc: 0.160000; val_acc: 0.079000\n",
      "(Epoch 3 / 20) train acc: 0.160000; val_acc: 0.079000\n",
      "(Epoch 4 / 20) train acc: 0.160000; val_acc: 0.079000\n",
      "(Epoch 5 / 20) train acc: 0.160000; val_acc: 0.079000\n",
      "(Iteration 11 / 40) loss: 2.302273\n",
      "(Epoch 6 / 20) train acc: 0.160000; val_acc: 0.079000\n",
      "(Epoch 7 / 20) train acc: 0.160000; val_acc: 0.079000\n",
      "(Epoch 8 / 20) train acc: 0.160000; val_acc: 0.079000\n",
      "(Epoch 9 / 20) train acc: 0.160000; val_acc: 0.079000\n",
      "(Epoch 10 / 20) train acc: 0.160000; val_acc: 0.079000\n",
      "(Iteration 21 / 40) loss: 2.302221\n",
      "(Epoch 11 / 20) train acc: 0.160000; val_acc: 0.079000\n",
      "(Epoch 12 / 20) train acc: 0.160000; val_acc: 0.079000\n",
      "(Epoch 13 / 20) train acc: 0.160000; val_acc: 0.079000\n",
      "(Epoch 14 / 20) train acc: 0.160000; val_acc: 0.079000\n",
      "(Epoch 15 / 20) train acc: 0.160000; val_acc: 0.079000\n",
      "(Iteration 31 / 40) loss: 2.302190\n",
      "(Epoch 16 / 20) train acc: 0.160000; val_acc: 0.079000\n",
      "(Epoch 17 / 20) train acc: 0.160000; val_acc: 0.079000\n",
      "(Epoch 18 / 20) train acc: 0.160000; val_acc: 0.079000\n",
      "(Epoch 19 / 20) train acc: 0.160000; val_acc: 0.079000\n",
      "(Epoch 20 / 20) train acc: 0.160000; val_acc: 0.079000\n"
     ]
    },
    {
     "data": {
      "image/png": "[encoded data removed]",
      "text/plain": [
       "<matplotlib.figure.Figure at 0x7f0ec6414d50>"
      ]
     },
     "metadata": {},
     "output_type": "display_data"
    }
   ],
   "source": [
    "# TODO: Use a five-layer Net to overfit 50 training examples.\n",
    "\n",
    "num_train = 50\n",
    "small_data = {\n",
    "  'X_train': data['X_train'][:num_train],\n",
    "  'y_train': data['y_train'][:num_train],\n",
    "  'X_val': data['X_val'],\n",
    "  'y_val': data['y_val'],\n",
    "}\n",
    "\n",
    "learning_rate = 1e-3\n",
    "weight_scale = 1e-5\n",
    "model = FullyConnectedNet([100, 100, 100, 100],\n",
    "                weight_scale=weight_scale, dtype=np.float64)\n",
    "solver = Solver(model, small_data,\n",
    "                print_every=10, num_epochs=20, batch_size=25,\n",
    "                update_rule='sgd',\n",
    "                optim_config={\n",
    "                  'learning_rate': learning_rate,\n",
    "                }\n",
    "         )\n",
    "solver.train()\n",
    "\n",
    "plt.plot(solver.loss_history, 'o')\n",
    "plt.title('Training loss history')\n",
    "plt.xlabel('Iteration')\n",
    "plt.ylabel('Training loss')\n",
    "plt.show()"
   ]
  },
  {
   "cell_type": "markdown",
   "metadata": {
    "deletable": true,
    "editable": true
   },
   "source": [
    "# Inline question: \n",
    "Did you notice anything about the comparative difficulty of training the three-layer net vs training the five layer net?\n",
    "\n",
    "# Answer:\n",
    "[FILL THIS IN]\n"
   ]
  },
  {
   "cell_type": "markdown",
   "metadata": {
    "deletable": true,
    "editable": true
   },
   "source": [
    "# Update rules\n",
    "So far we have used vanilla stochastic gradient descent (SGD) as our update rule. More sophisticated update rules can make it easier to train deep networks. We will implement a few of the most commonly used update rules and compare them to vanilla SGD."
   ]
  },
  {
   "cell_type": "markdown",
   "metadata": {
    "deletable": true,
    "editable": true
   },
   "source": [
    "# SGD+Momentum\n",
    "Stochastic gradient descent with momentum is a widely used update rule that tends to make deep networks converge faster than vanilla stochstic gradient descent.\n",
    "\n",
    "Open the file `cs231n/optim.py` and read the documentation at the top of the file to make sure you understand the API. Implement the SGD+momentum update rule in the function `sgd_momentum` and run the following to check your implementation. You should see errors less than 1e-8."
   ]
  },
  {
   "cell_type": "code",
   "execution_count": 15,
   "metadata": {
    "collapsed": false,
    "deletable": true,
    "editable": true
   },
   "outputs": [
    {
     "name": "stdout",
     "output_type": "stream",
     "text": [
      "next_w error:  8.88234703351e-09\n",
      "velocity error:  4.26928774328e-09\n"
     ]
    }
   ],
   "source": [
    "from cs231n.optim import sgd_momentum\n",
    "\n",
    "N, D = 4, 5\n",
    "w = np.linspace(-0.4, 0.6, num=N*D).reshape(N, D)\n",
    "dw = np.linspace(-0.6, 0.4, num=N*D).reshape(N, D)\n",
    "v = np.linspace(0.6, 0.9, num=N*D).reshape(N, D)\n",
    "\n",
    "config = {'learning_rate': 1e-3, 'velocity': v}\n",
    "next_w, _ = sgd_momentum(w, dw, config=config)\n",
    "\n",
    "expected_next_w = np.asarray([\n",
    "  [ 0.1406,      0.20738947,  0.27417895,  0.34096842,  0.40775789],\n",
    "  [ 0.47454737,  0.54133684,  0.60812632,  0.67491579,  0.74170526],\n",
    "  [ 0.80849474,  0.87528421,  0.94207368,  1.00886316,  1.07565263],\n",
    "  [ 1.14244211,  1.20923158,  1.27602105,  1.34281053,  1.4096    ]])\n",
    "expected_velocity = np.asarray([\n",
    "  [ 0.5406,      0.55475789,  0.56891579, 0.58307368,  0.59723158],\n",
    "  [ 0.61138947,  0.62554737,  0.63970526,  0.65386316,  0.66802105],\n",
    "  [ 0.68217895,  0.69633684,  0.71049474,  0.72465263,  0.73881053],\n",
    "  [ 0.75296842,  0.76712632,  0.78128421,  0.79544211,  0.8096    ]])\n",
    "\n",
    "print('next_w error: ', rel_error(next_w, expected_next_w))\n",
    "print('velocity error: ', rel_error(expected_velocity, config['velocity']))"
   ]
  },
  {
   "cell_type": "markdown",
   "metadata": {
    "deletable": true,
    "editable": true
   },
   "source": [
    "Once you have done so, run the following to train a six-layer network with both SGD and SGD+momentum. You should see the SGD+momentum update rule converge faster."
   ]
  },
  {
   "cell_type": "code",
   "execution_count": 10,
   "metadata": {
    "collapsed": false,
    "deletable": true,
    "editable": true,
    "scrolled": false
   },
   "outputs": [
    {
     "name": "stdout",
     "output_type": "stream",
     "text": [
      "running with  sgd\n",
      "(Iteration 1 / 200) loss: 2.924493\n",
      "(Epoch 0 / 5) train acc: 0.091000; val_acc: 0.097000\n",
      "(Iteration 11 / 200) loss: 2.158920\n",
      "(Iteration 21 / 200) loss: 2.077899\n",
      "(Iteration 31 / 200) loss: 1.976504\n",
      "(Epoch 1 / 5) train acc: 0.296000; val_acc: 0.302000\n",
      "(Iteration 41 / 200) loss: 2.081518\n",
      "(Iteration 51 / 200) loss: 1.973624\n",
      "(Iteration 61 / 200) loss: 1.816466\n",
      "(Iteration 71 / 200) loss: 1.897231\n",
      "(Epoch 2 / 5) train acc: 0.338000; val_acc: 0.310000\n",
      "(Iteration 81 / 200) loss: 1.882023\n",
      "(Iteration 91 / 200) loss: 1.898525\n",
      "(Iteration 101 / 200) loss: 1.996461\n",
      "(Iteration 111 / 200) loss: 1.805626\n",
      "(Epoch 3 / 5) train acc: 0.359000; val_acc: 0.332000\n",
      "(Iteration 121 / 200) loss: 1.885513\n",
      "(Iteration 131 / 200) loss: 1.717516\n",
      "(Iteration 141 / 200) loss: 1.628228\n",
      "(Iteration 151 / 200) loss: 1.855509\n",
      "(Epoch 4 / 5) train acc: 0.413000; val_acc: 0.342000\n",
      "(Iteration 161 / 200) loss: 1.695755\n",
      "(Iteration 171 / 200) loss: 1.563834\n",
      "(Iteration 181 / 200) loss: 1.530988\n",
      "(Iteration 191 / 200) loss: 1.441670\n",
      "(Epoch 5 / 5) train acc: 0.445000; val_acc: 0.321000\n",
      "\n",
      "running with  sgd_momentum\n",
      "(Iteration 1 / 200) loss: 2.859397\n",
      "(Epoch 0 / 5) train acc: 0.123000; val_acc: 0.102000\n",
      "(Iteration 11 / 200) loss: 2.229292\n",
      "(Iteration 21 / 200) loss: 1.932487\n",
      "(Iteration 31 / 200) loss: 1.886015\n",
      "(Epoch 1 / 5) train acc: 0.354000; val_acc: 0.306000\n",
      "(Iteration 41 / 200) loss: 1.878448\n",
      "(Iteration 51 / 200) loss: 1.930633\n",
      "(Iteration 61 / 200) loss: 1.728478\n",
      "(Iteration 71 / 200) loss: 1.654730\n",
      "(Epoch 2 / 5) train acc: 0.400000; val_acc: 0.324000\n",
      "(Iteration 81 / 200) loss: 1.732482\n",
      "(Iteration 91 / 200) loss: 1.601298\n",
      "(Iteration 101 / 200) loss: 1.574136\n",
      "(Iteration 111 / 200) loss: 1.644984\n",
      "(Epoch 3 / 5) train acc: 0.454000; val_acc: 0.383000\n",
      "(Iteration 121 / 200) loss: 1.480388\n",
      "(Iteration 131 / 200) loss: 1.608054\n",
      "(Iteration 141 / 200) loss: 1.414057\n",
      "(Iteration 151 / 200) loss: 1.494769\n",
      "(Epoch 4 / 5) train acc: 0.499000; val_acc: 0.357000\n",
      "(Iteration 161 / 200) loss: 1.310248\n",
      "(Iteration 171 / 200) loss: 1.289882\n",
      "(Iteration 181 / 200) loss: 1.402609\n",
      "(Iteration 191 / 200) loss: 1.677033\n",
      "(Epoch 5 / 5) train acc: 0.511000; val_acc: 0.372000\n",
      "\n"
     ]
    },
    {
     "data": {
      "image/png": "[encoded data removed]",
      "text/plain": [
       "<matplotlib.figure.Figure at 0x7f69cf9ea550>"
      ]
     },
     "metadata": {},
     "output_type": "display_data"
    }
   ],
   "source": [
    "num_train = 4000\n",
    "small_data = {\n",
    "  'X_train': data['X_train'][:num_train],\n",
    "  'y_train': data['y_train'][:num_train],\n",
    "  'X_val': data['X_val'],\n",
    "  'y_val': data['y_val'],\n",
    "}\n",
    "\n",
    "solvers = {}\n",
    "\n",
    "for update_rule in ['sgd', 'sgd_momentum']:\n",
    "  print('running with ', update_rule)\n",
    "  model = FullyConnectedNet([100, 100, 100, 100, 100], weight_scale=5e-2)\n",
    "\n",
    "  solver = Solver(model, small_data,\n",
    "                  num_epochs=5, batch_size=100,\n",
    "                  update_rule=update_rule,\n",
    "                  optim_config={\n",
    "                    'learning_rate': 1e-2,\n",
    "                  },\n",
    "                  verbose=True)\n",
    "  solvers[update_rule] = solver\n",
    "  solver.train()\n",
    "  print()\n",
    "\n",
    "plt.subplot(3, 1, 1)\n",
    "plt.title('Training loss')\n",
    "plt.xlabel('Iteration')\n",
    "\n",
    "plt.subplot(3, 1, 2)\n",
    "plt.title('Training accuracy')\n",
    "plt.xlabel('Epoch')\n",
    "\n",
    "plt.subplot(3, 1, 3)\n",
    "plt.title('Validation accuracy')\n",
    "plt.xlabel('Epoch')\n",
    "\n",
    "for update_rule, solver in list(solvers.items()):\n",
    "  plt.subplot(3, 1, 1)\n",
    "  plt.plot(solver.loss_history, 'o', label=update_rule)\n",
    "  \n",
    "  plt.subplot(3, 1, 2)\n",
    "  plt.plot(solver.train_acc_history, '-o', label=update_rule)\n",
    "\n",
    "  plt.subplot(3, 1, 3)\n",
    "  plt.plot(solver.val_acc_history, '-o', label=update_rule)\n",
    "  \n",
    "for i in [1, 2, 3]:\n",
    "  plt.subplot(3, 1, i)\n",
    "  plt.legend(loc='upper center', ncol=4)\n",
    "plt.gcf().set_size_inches(15, 15)\n",
    "plt.show()"
   ]
  },
  {
   "cell_type": "markdown",
   "metadata": {
    "deletable": true,
    "editable": true
   },
   "source": [
    "# RMSProp and Adam\n",
    "RMSProp [1] and Adam [2] are update rules that set per-parameter learning rates by using a running average of the second moments of gradients.\n",
    "\n",
    "In the file `cs231n/optim.py`, implement the RMSProp update rule in the `rmsprop` function and implement the Adam update rule in the `adam` function, and check your implementations using the tests below.\n",
    "\n",
    "[1] Tijmen Tieleman and Geoffrey Hinton. \"Lecture 6.5-rmsprop: Divide the gradient by a running average of its recent magnitude.\" COURSERA: Neural Networks for Machine Learning 4 (2012).\n",
    "\n",
    "[2] Diederik Kingma and Jimmy Ba, \"Adam: A Method for Stochastic Optimization\", ICLR 2015."
   ]
  },
  {
   "cell_type": "code",
   "execution_count": 11,
   "metadata": {
    "collapsed": false,
    "deletable": true,
    "editable": true
   },
   "outputs": [
    {
     "name": "stdout",
     "output_type": "stream",
     "text": [
      "next_w error:  9.52468751104e-08\n",
      "cache error:  2.64779558072e-09\n"
     ]
    }
   ],
   "source": [
    "# Test RMSProp implementation; you should see errors less than 1e-7\n",
    "from cs231n.optim import rmsprop\n",
    "\n",
    "N, D = 4, 5\n",
    "w = np.linspace(-0.4, 0.6, num=N*D).reshape(N, D)\n",
    "dw = np.linspace(-0.6, 0.4, num=N*D).reshape(N, D)\n",
    "cache = np.linspace(0.6, 0.9, num=N*D).reshape(N, D)\n",
    "\n",
    "config = {'learning_rate': 1e-2, 'cache': cache}\n",
    "next_w, _ = rmsprop(w, dw, config=config)\n",
    "\n",
    "expected_next_w = np.asarray([\n",
    "  [-0.39223849, -0.34037513, -0.28849239, -0.23659121, -0.18467247],\n",
    "  [-0.132737,   -0.08078555, -0.02881884,  0.02316247,  0.07515774],\n",
    "  [ 0.12716641,  0.17918792,  0.23122175,  0.28326742,  0.33532447],\n",
    "  [ 0.38739248,  0.43947102,  0.49155973,  0.54365823,  0.59576619]])\n",
    "expected_cache = np.asarray([\n",
    "  [ 0.5976,      0.6126277,   0.6277108,   0.64284931,  0.65804321],\n",
    "  [ 0.67329252,  0.68859723,  0.70395734,  0.71937285,  0.73484377],\n",
    "  [ 0.75037008,  0.7659518,   0.78158892,  0.79728144,  0.81302936],\n",
    "  [ 0.82883269,  0.84469141,  0.86060554,  0.87657507,  0.8926    ]])\n",
    "\n",
    "print('next_w error: ', rel_error(expected_next_w, next_w))\n",
    "print('cache error: ', rel_error(expected_cache, config['cache']))"
   ]
  },
  {
   "cell_type": "code",
   "execution_count": 12,
   "metadata": {
    "collapsed": false,
    "deletable": true,
    "editable": true
   },
   "outputs": [
    {
     "name": "stdout",
     "output_type": "stream",
     "text": [
      "[[-0.40094747 -0.34836187 -0.29577703 -0.24319299 -0.19060977]\n",
      " [-0.1380274  -0.08544591 -0.03286534  0.01971428  0.0722929 ]\n",
      " [ 0.1248705   0.17744702  0.23002243  0.28259667  0.33516969]\n",
      " [ 0.38774145  0.44031188  0.49288093  0.54544852  0.59801459]]\n",
      "next_w error:  1.13956917985e-07\n",
      "v error:  4.20831403811e-09\n",
      "m error:  4.21496319311e-09\n"
     ]
    }
   ],
   "source": [
    "# Test Adam implementation; you should see errors around 1e-7 or less\n",
    "from cs231n.optim import adam\n",
    "\n",
    "N, D = 4, 5\n",
    "w = np.linspace(-0.4, 0.6, num=N*D).reshape(N, D)\n",
    "dw = np.linspace(-0.6, 0.4, num=N*D).reshape(N, D)\n",
    "m = np.linspace(0.6, 0.9, num=N*D).reshape(N, D)\n",
    "v = np.linspace(0.7, 0.5, num=N*D).reshape(N, D)\n",
    "\n",
    "config = {'learning_rate': 1e-2, 'm': m, 'v': v, 't': 5}\n",
    "next_w, _ = adam(w, dw, config=config)\n",
    "print(next_w)\n",
    "\n",
    "expected_next_w = np.asarray([\n",
    "  [-0.40094747, -0.34836187, -0.29577703, -0.24319299, -0.19060977],\n",
    "  [-0.1380274,  -0.08544591, -0.03286534,  0.01971428,  0.0722929],\n",
    "  [ 0.1248705,   0.17744702,  0.23002243,  0.28259667,  0.33516969],\n",
    "  [ 0.38774145,  0.44031188,  0.49288093,  0.54544852,  0.59801459]])\n",
    "expected_v = np.asarray([\n",
    "  [ 0.69966,     0.68908382,  0.67851319,  0.66794809,  0.65738853,],\n",
    "  [ 0.64683452,  0.63628604,  0.6257431,   0.61520571,  0.60467385,],\n",
    "  [ 0.59414753,  0.58362676,  0.57311152,  0.56260183,  0.55209767,],\n",
    "  [ 0.54159906,  0.53110598,  0.52061845,  0.51013645,  0.49966,   ]])\n",
    "expected_m = np.asarray([\n",
    "  [ 0.48,        0.49947368,  0.51894737,  0.53842105,  0.55789474],\n",
    "  [ 0.57736842,  0.59684211,  0.61631579,  0.63578947,  0.65526316],\n",
    "  [ 0.67473684,  0.69421053,  0.71368421,  0.73315789,  0.75263158],\n",
    "  [ 0.77210526,  0.79157895,  0.81105263,  0.83052632,  0.85      ]])\n",
    "\n",
    "print('next_w error: ', rel_error(expected_next_w, next_w))\n",
    "print('v error: ', rel_error(expected_v, config['v']))\n",
    "print('m error: ', rel_error(expected_m, config['m']))"
   ]
  },
  {
   "cell_type": "markdown",
   "metadata": {
    "deletable": true,
    "editable": true
   },
   "source": [
    "Once you have debugged your RMSProp and Adam implementations, run the following to train a pair of deep networks using these new update rules:"
   ]
  },
  {
   "cell_type": "code",
   "execution_count": 26,
   "metadata": {
    "collapsed": false,
    "deletable": true,
    "editable": true
   },
   "outputs": [
    {
     "name": "stdout",
     "output_type": "stream",
     "text": [
      "running with  adam\n",
      "(Iteration 1 / 200) loss: 2.805712\n",
      "(Epoch 0 / 5) train acc: 0.107000; val_acc: 0.112000\n",
      "(Iteration 11 / 200) loss: 2.112439\n",
      "(Iteration 21 / 200) loss: 1.987836\n",
      "(Iteration 31 / 200) loss: 2.031413\n",
      "(Epoch 1 / 5) train acc: 0.372000; val_acc: 0.290000\n",
      "(Iteration 41 / 200) loss: 1.844352\n",
      "(Iteration 51 / 200) loss: 1.704758\n",
      "(Iteration 61 / 200) loss: 1.654648\n",
      "(Iteration 71 / 200) loss: 1.561379\n",
      "(Epoch 2 / 5) train acc: 0.431000; val_acc: 0.343000\n",
      "(Iteration 81 / 200) loss: 1.670998\n",
      "(Iteration 91 / 200) loss: 1.674154\n",
      "(Iteration 101 / 200) loss: 1.530912\n",
      "(Iteration 111 / 200) loss: 1.610735\n",
      "(Epoch 3 / 5) train acc: 0.481000; val_acc: 0.366000\n",
      "(Iteration 121 / 200) loss: 1.492347\n",
      "(Iteration 131 / 200) loss: 1.416356\n",
      "(Iteration 141 / 200) loss: 1.481026\n",
      "(Iteration 151 / 200) loss: 1.328336\n",
      "(Epoch 4 / 5) train acc: 0.494000; val_acc: 0.358000\n",
      "(Iteration 161 / 200) loss: 1.356777\n",
      "(Iteration 171 / 200) loss: 1.283050\n",
      "(Iteration 181 / 200) loss: 1.510360\n",
      "(Iteration 191 / 200) loss: 1.179911\n",
      "(Epoch 5 / 5) train acc: 0.585000; val_acc: 0.371000\n",
      "\n",
      "running with  rmsprop\n",
      "(Iteration 1 / 200) loss: 2.546557\n",
      "(Epoch 0 / 5) train acc: 0.160000; val_acc: 0.135000\n",
      "(Iteration 11 / 200) loss: 2.084614\n",
      "(Iteration 21 / 200) loss: 2.033270\n",
      "(Iteration 31 / 200) loss: 1.706437\n",
      "(Epoch 1 / 5) train acc: 0.347000; val_acc: 0.278000\n",
      "(Iteration 41 / 200) loss: 1.811430\n",
      "(Iteration 51 / 200) loss: 1.819128\n",
      "(Iteration 61 / 200) loss: 1.835118\n",
      "(Iteration 71 / 200) loss: 1.693841\n",
      "(Epoch 2 / 5) train acc: 0.431000; val_acc: 0.295000\n",
      "(Iteration 81 / 200) loss: 1.627835\n",
      "(Iteration 91 / 200) loss: 1.549492\n",
      "(Iteration 101 / 200) loss: 1.598114\n",
      "(Iteration 111 / 200) loss: 1.560910\n",
      "(Epoch 3 / 5) train acc: 0.467000; val_acc: 0.333000\n",
      "(Iteration 121 / 200) loss: 1.474603\n",
      "(Iteration 131 / 200) loss: 1.557518\n",
      "(Iteration 141 / 200) loss: 1.470054\n",
      "(Iteration 151 / 200) loss: 1.396246\n",
      "(Epoch 4 / 5) train acc: 0.495000; val_acc: 0.335000\n",
      "(Iteration 161 / 200) loss: 1.613908\n",
      "(Iteration 171 / 200) loss: 1.497561\n",
      "(Iteration 181 / 200) loss: 1.460144\n",
      "(Iteration 191 / 200) loss: 1.400011\n",
      "(Epoch 5 / 5) train acc: 0.537000; val_acc: 0.345000\n",
      "\n"
     ]
    },
    {
     "data": {
      "image/png": "[encoded data removed]",
      "text/plain": [
       "<matplotlib.figure.Figure at 0x7f69cdd21390>"
      ]
     },
     "metadata": {},
     "output_type": "display_data"
    }
   ],
   "source": [
    "learning_rates = {'rmsprop': 1e-4, 'adam': 1e-3}\n",
    "for update_rule in ['adam', 'rmsprop']:\n",
    "  print('running with ', update_rule)\n",
    "  model = FullyConnectedNet([100, 100, 100, 100, 100], weight_scale=5e-2)\n",
    "\n",
    "  solver = Solver(model, small_data,\n",
    "                  num_epochs=5, batch_size=100,\n",
    "                  update_rule=update_rule,\n",
    "                  optim_config={\n",
    "                    'learning_rate': learning_rates[update_rule]\n",
    "                  },\n",
    "                  verbose=True)\n",
    "  solvers[update_rule] = solver\n",
    "  solver.train()\n",
    "  print()\n",
    "\n",
    "plt.subplot(3, 1, 1)\n",
    "plt.title('Training loss')\n",
    "plt.xlabel('Iteration')\n",
    "\n",
    "plt.subplot(3, 1, 2)\n",
    "plt.title('Training accuracy')\n",
    "plt.xlabel('Epoch')\n",
    "\n",
    "plt.subplot(3, 1, 3)\n",
    "plt.title('Validation accuracy')\n",
    "plt.xlabel('Epoch')\n",
    "\n",
    "for update_rule, solver in list(solvers.items()):\n",
    "  plt.subplot(3, 1, 1)\n",
    "  plt.plot(solver.loss_history, 'o', label=update_rule)\n",
    "  \n",
    "  plt.subplot(3, 1, 2)\n",
    "  plt.plot(solver.train_acc_history, '-o', label=update_rule)\n",
    "\n",
    "  plt.subplot(3, 1, 3)\n",
    "  plt.plot(solver.val_acc_history, '-o', label=update_rule)\n",
    "  \n",
    "for i in [1, 2, 3]:\n",
    "  plt.subplot(3, 1, i)\n",
    "  plt.legend(loc='upper center', ncol=4)\n",
    "plt.gcf().set_size_inches(15, 15)\n",
    "plt.show()"
   ]
  },
  {
   "cell_type": "markdown",
   "metadata": {
    "deletable": true,
    "editable": true
   },
   "source": [
    "# Train a good model!\n",
    "Train the best fully-connected model that you can on CIFAR-10, storing your best model in the `best_model` variable. We require you to get at least 50% accuracy on the validation set using a fully-connected net.\n",
    "\n",
    "If you are careful it should be possible to get accuracies above 55%, but we don't require it for this part and won't assign extra credit for doing so. Later in the assignment we will ask you to train the best convolutional network that you can on CIFAR-10, and we would prefer that you spend your effort working on convolutional nets rather than fully-connected nets.\n",
    "\n",
    "You might find it useful to complete the `BatchNormalization.ipynb` and `Dropout.ipynb` notebooks before completing this part, since those techniques can help you train powerful models."
   ]
  },
  {
   "cell_type": "code",
   "execution_count": 13,
   "metadata": {
    "collapsed": false,
    "deletable": true,
    "editable": true,
    "scrolled": false
   },
   "outputs": [
    {
     "name": "stdout",
     "output_type": "stream",
     "text": [
      "(Iteration 1 / 9800) loss: 6.578879\n",
      "(Epoch 0 / 100) train acc: 0.110000; val_acc: 0.115000\n",
      "(Epoch 1 / 100) train acc: 0.386000; val_acc: 0.406000\n",
      "(Epoch 2 / 100) train acc: 0.435000; val_acc: 0.415000\n",
      "(Epoch 3 / 100) train acc: 0.449000; val_acc: 0.461000\n",
      "(Epoch 4 / 100) train acc: 0.498000; val_acc: 0.475000\n",
      "(Epoch 5 / 100) train acc: 0.453000; val_acc: 0.441000\n",
      "(Iteration 501 / 9800) loss: 1.776424\n",
      "(Epoch 6 / 100) train acc: 0.481000; val_acc: 0.469000\n",
      "(Epoch 7 / 100) train acc: 0.477000; val_acc: 0.482000\n",
      "(Epoch 8 / 100) train acc: 0.479000; val_acc: 0.479000\n",
      "(Epoch 9 / 100) train acc: 0.489000; val_acc: 0.496000\n",
      "(Epoch 10 / 100) train acc: 0.515000; val_acc: 0.474000\n",
      "(Iteration 1001 / 9800) loss: 1.677690\n",
      "(Epoch 11 / 100) train acc: 0.505000; val_acc: 0.492000\n",
      "(Epoch 12 / 100) train acc: 0.508000; val_acc: 0.505000\n",
      "(Epoch 13 / 100) train acc: 0.517000; val_acc: 0.513000\n",
      "(Epoch 14 / 100) train acc: 0.504000; val_acc: 0.504000\n",
      "(Epoch 15 / 100) train acc: 0.521000; val_acc: 0.494000\n",
      "(Iteration 1501 / 9800) loss: 1.537989\n",
      "(Epoch 16 / 100) train acc: 0.559000; val_acc: 0.509000\n",
      "(Epoch 17 / 100) train acc: 0.533000; val_acc: 0.500000\n",
      "(Epoch 18 / 100) train acc: 0.531000; val_acc: 0.521000\n",
      "(Epoch 19 / 100) train acc: 0.560000; val_acc: 0.514000\n",
      "(Epoch 20 / 100) train acc: 0.552000; val_acc: 0.514000\n",
      "(Iteration 2001 / 9800) loss: 1.539039\n",
      "(Epoch 21 / 100) train acc: 0.560000; val_acc: 0.523000\n",
      "(Epoch 22 / 100) train acc: 0.565000; val_acc: 0.529000\n",
      "(Epoch 23 / 100) train acc: 0.594000; val_acc: 0.527000\n",
      "(Epoch 24 / 100) train acc: 0.559000; val_acc: 0.520000\n",
      "(Epoch 25 / 100) train acc: 0.561000; val_acc: 0.516000\n",
      "(Iteration 2501 / 9800) loss: 1.458537\n",
      "(Epoch 26 / 100) train acc: 0.605000; val_acc: 0.530000\n",
      "(Epoch 27 / 100) train acc: 0.600000; val_acc: 0.533000\n",
      "(Epoch 28 / 100) train acc: 0.575000; val_acc: 0.533000\n",
      "(Epoch 29 / 100) train acc: 0.597000; val_acc: 0.537000\n",
      "(Epoch 30 / 100) train acc: 0.610000; val_acc: 0.535000\n",
      "(Iteration 3001 / 9800) loss: 1.417023\n",
      "(Epoch 31 / 100) train acc: 0.596000; val_acc: 0.532000\n",
      "(Epoch 32 / 100) train acc: 0.612000; val_acc: 0.523000\n",
      "(Epoch 33 / 100) train acc: 0.613000; val_acc: 0.538000\n",
      "(Epoch 34 / 100) train acc: 0.604000; val_acc: 0.537000\n",
      "(Epoch 35 / 100) train acc: 0.595000; val_acc: 0.524000\n",
      "(Iteration 3501 / 9800) loss: 1.316067\n",
      "(Epoch 36 / 100) train acc: 0.615000; val_acc: 0.533000\n",
      "(Epoch 37 / 100) train acc: 0.614000; val_acc: 0.531000\n",
      "(Epoch 38 / 100) train acc: 0.638000; val_acc: 0.528000\n",
      "(Epoch 39 / 100) train acc: 0.616000; val_acc: 0.534000\n",
      "(Epoch 40 / 100) train acc: 0.632000; val_acc: 0.531000\n",
      "(Iteration 4001 / 9800) loss: 1.343865\n",
      "(Epoch 41 / 100) train acc: 0.659000; val_acc: 0.538000\n",
      "(Epoch 42 / 100) train acc: 0.632000; val_acc: 0.544000\n",
      "(Epoch 43 / 100) train acc: 0.640000; val_acc: 0.534000\n",
      "(Epoch 44 / 100) train acc: 0.661000; val_acc: 0.536000\n",
      "(Epoch 45 / 100) train acc: 0.644000; val_acc: 0.544000\n",
      "(Iteration 4501 / 9800) loss: 1.310787\n",
      "(Epoch 46 / 100) train acc: 0.645000; val_acc: 0.555000\n",
      "(Epoch 47 / 100) train acc: 0.636000; val_acc: 0.545000\n",
      "(Epoch 48 / 100) train acc: 0.651000; val_acc: 0.533000\n",
      "(Epoch 49 / 100) train acc: 0.687000; val_acc: 0.540000\n",
      "(Epoch 50 / 100) train acc: 0.670000; val_acc: 0.539000\n",
      "(Epoch 51 / 100) train acc: 0.657000; val_acc: 0.545000\n",
      "(Iteration 5001 / 9800) loss: 1.292470\n",
      "(Epoch 52 / 100) train acc: 0.660000; val_acc: 0.542000\n",
      "(Epoch 53 / 100) train acc: 0.706000; val_acc: 0.534000\n",
      "(Epoch 54 / 100) train acc: 0.700000; val_acc: 0.541000\n",
      "(Epoch 55 / 100) train acc: 0.699000; val_acc: 0.549000\n",
      "(Epoch 56 / 100) train acc: 0.698000; val_acc: 0.557000\n",
      "(Iteration 5501 / 9800) loss: 1.158377\n",
      "(Epoch 57 / 100) train acc: 0.678000; val_acc: 0.550000\n",
      "(Epoch 58 / 100) train acc: 0.687000; val_acc: 0.540000\n",
      "(Epoch 59 / 100) train acc: 0.702000; val_acc: 0.544000\n",
      "(Epoch 60 / 100) train acc: 0.716000; val_acc: 0.542000\n",
      "(Epoch 61 / 100) train acc: 0.718000; val_acc: 0.549000\n",
      "(Iteration 6001 / 9800) loss: 1.208976\n",
      "(Epoch 62 / 100) train acc: 0.719000; val_acc: 0.546000\n",
      "(Epoch 63 / 100) train acc: 0.713000; val_acc: 0.537000\n",
      "(Epoch 64 / 100) train acc: 0.700000; val_acc: 0.554000\n",
      "(Epoch 65 / 100) train acc: 0.714000; val_acc: 0.550000\n",
      "(Epoch 66 / 100) train acc: 0.739000; val_acc: 0.537000\n",
      "(Iteration 6501 / 9800) loss: 1.196038\n",
      "(Epoch 67 / 100) train acc: 0.685000; val_acc: 0.554000\n",
      "(Epoch 68 / 100) train acc: 0.701000; val_acc: 0.543000\n",
      "(Epoch 69 / 100) train acc: 0.709000; val_acc: 0.544000\n",
      "(Epoch 70 / 100) train acc: 0.708000; val_acc: 0.554000\n",
      "(Epoch 71 / 100) train acc: 0.743000; val_acc: 0.558000\n",
      "(Iteration 7001 / 9800) loss: 1.131117\n",
      "(Epoch 72 / 100) train acc: 0.730000; val_acc: 0.547000\n",
      "(Epoch 73 / 100) train acc: 0.734000; val_acc: 0.554000\n",
      "(Epoch 74 / 100) train acc: 0.721000; val_acc: 0.553000\n",
      "(Epoch 75 / 100) train acc: 0.721000; val_acc: 0.550000\n",
      "(Epoch 76 / 100) train acc: 0.718000; val_acc: 0.552000\n",
      "(Iteration 7501 / 9800) loss: 1.193275\n",
      "(Epoch 77 / 100) train acc: 0.735000; val_acc: 0.558000\n",
      "(Epoch 78 / 100) train acc: 0.720000; val_acc: 0.548000\n",
      "(Epoch 79 / 100) train acc: 0.734000; val_acc: 0.551000\n",
      "(Epoch 80 / 100) train acc: 0.722000; val_acc: 0.540000\n",
      "(Epoch 81 / 100) train acc: 0.735000; val_acc: 0.557000\n",
      "(Iteration 8001 / 9800) loss: 1.098648\n",
      "(Epoch 82 / 100) train acc: 0.726000; val_acc: 0.552000\n",
      "(Epoch 83 / 100) train acc: 0.695000; val_acc: 0.550000\n",
      "(Epoch 84 / 100) train acc: 0.752000; val_acc: 0.556000\n",
      "(Epoch 85 / 100) train acc: 0.736000; val_acc: 0.548000\n",
      "(Epoch 86 / 100) train acc: 0.759000; val_acc: 0.550000\n",
      "(Iteration 8501 / 9800) loss: 1.115345\n",
      "(Epoch 87 / 100) train acc: 0.721000; val_acc: 0.545000\n",
      "(Epoch 88 / 100) train acc: 0.739000; val_acc: 0.549000\n",
      "(Epoch 89 / 100) train acc: 0.748000; val_acc: 0.553000\n",
      "(Epoch 90 / 100) train acc: 0.748000; val_acc: 0.546000\n",
      "(Epoch 91 / 100) train acc: 0.742000; val_acc: 0.551000\n",
      "(Iteration 9001 / 9800) loss: 1.183678\n",
      "(Epoch 92 / 100) train acc: 0.742000; val_acc: 0.541000\n",
      "(Epoch 93 / 100) train acc: 0.764000; val_acc: 0.550000\n",
      "(Epoch 94 / 100) train acc: 0.756000; val_acc: 0.548000\n",
      "(Epoch 95 / 100) train acc: 0.772000; val_acc: 0.543000\n",
      "(Epoch 96 / 100) train acc: 0.731000; val_acc: 0.546000\n",
      "(Iteration 9501 / 9800) loss: 1.176230\n",
      "(Epoch 97 / 100) train acc: 0.756000; val_acc: 0.551000\n",
      "(Epoch 98 / 100) train acc: 0.737000; val_acc: 0.556000\n",
      "(Epoch 99 / 100) train acc: 0.731000; val_acc: 0.548000\n",
      "(Epoch 100 / 100) train acc: 0.751000; val_acc: 0.546000\n"
     ]
    }
   ],
   "source": [
    "best_model = None\n",
    "################################################################################\n",
    "# TODO: Train the best FullyConnectedNet that you can on CIFAR-10. You might   #\n",
    "# batch normalization and dropout useful. Store your best model in the         #\n",
    "# best_model variable.                                                         #\n",
    "################################################################################\n",
    "num_train = 50000\n",
    "big_data = {\n",
    "  'X_train': data['X_train'][:num_train],\n",
    "  'y_train': data['y_train'][:num_train],\n",
    "  'X_val': data['X_val'],\n",
    "  'y_val': data['y_val'],\n",
    "}\n",
    "\n",
    "learning_rates = [1e-3]\n",
    "regularization_strengths = [0.01]\n",
    "\n",
    "for lr in learning_rates:\n",
    "    for reg in regularization_strengths:\n",
    "        net = FullyConnectedNet([100, 100, 100, 100], use_batchnorm=True, dropout=0.25, reg=reg, weight_scale=5e-2)\n",
    "        solver = Solver(net, big_data, print_every=500,\n",
    "                        num_epochs=100, batch_size=500, lr_decay=0.95,\n",
    "                        update_rule='adam', optim_config={'learning_rate': lr},\n",
    "                        verbose=True)\n",
    "        solver.train()\n",
    "        \n",
    "best_model = net\n",
    "################################################################################\n",
    "#                              END OF YOUR CODE                                #\n",
    "################################################################################"
   ]
  },
  {
   "cell_type": "markdown",
   "metadata": {
    "deletable": true,
    "editable": true
   },
   "source": [
    "# Test you model\n",
    "Run your best model on the validation and test sets. You should achieve above 50% accuracy on the validation set."
   ]
  },
  {
   "cell_type": "code",
   "execution_count": 14,
   "metadata": {
    "collapsed": false,
    "deletable": true,
    "editable": true
   },
   "outputs": [
    {
     "name": "stdout",
     "output_type": "stream",
     "text": [
      "Validation set accuracy:  0.534\n",
      "Test set accuracy:  0.534\n"
     ]
    }
   ],
   "source": [
    "y_test_pred = np.argmax(best_model.loss(data['X_test']), axis=1)\n",
    "y_val_pred = np.argmax(best_model.loss(data['X_val']), axis=1)\n",
    "print('Validation set accuracy: ', (y_val_pred == data['y_val']).mean())\n",
    "print('Test set accuracy: ', (y_test_pred == data['y_test']).mean())"
   ]
  },
  {
   "cell_type": "code",
   "execution_count": null,
   "metadata": {
    "collapsed": true
   },
   "outputs": [],
   "source": []
  }
 ],
 "metadata": {
  "kernelspec": {
   "display_name": "Python 2",
   "language": "python",
   "name": "python2"
  },
  "language_info": {
   "codemirror_mode": {
    "name": "ipython",
    "version": 2
   },
   "file_extension": ".py",
   "mimetype": "text/x-python",
   "name": "python",
   "nbconvert_exporter": "python",
   "pygments_lexer": "ipython2",
   "version": "2.7.12"
  }
 },
 "nbformat": 4,
 "nbformat_minor": 0
}
