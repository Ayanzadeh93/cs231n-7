{
 "cells": [
  {
   "cell_type": "markdown",
   "metadata": {},
   "source": [
    "# Softmax exercise\n",
    "\n",
    "*Complete and hand in this completed worksheet (including its outputs and any supporting code outside of the worksheet) with your assignment submission. For more details see the [assignments page](http://vision.stanford.edu/teaching/cs231n/assignments.html) on the course website.*\n",
    "\n",
    "This exercise is analogous to the SVM exercise. You will:\n",
    "\n",
    "- implement a fully-vectorized **loss function** for the Softmax classifier\n",
    "- implement the fully-vectorized expression for its **analytic gradient**\n",
    "- **check your implementation** with numerical gradient\n",
    "- use a validation set to **tune the learning rate and regularization** strength\n",
    "- **optimize** the loss function with **SGD**\n",
    "- **visualize** the final learned weights\n"
   ]
  },
  {
   "cell_type": "code",
   "execution_count": 1,
   "metadata": {
    "collapsed": false
   },
   "outputs": [],
   "source": [
    "import random\n",
    "import numpy as np\n",
    "from cs231n.data_utils import load_CIFAR10\n",
    "import matplotlib.pyplot as plt\n",
    "\n",
    "from __future__ import print_function\n",
    "\n",
    "%matplotlib inline\n",
    "plt.rcParams['figure.figsize'] = (10.0, 8.0) # set default size of plots\n",
    "plt.rcParams['image.interpolation'] = 'nearest'\n",
    "plt.rcParams['image.cmap'] = 'gray'\n",
    "\n",
    "# for auto-reloading extenrnal modules\n",
    "# see http://stackoverflow.com/questions/1907993/autoreload-of-modules-in-ipython\n",
    "%load_ext autoreload\n",
    "%autoreload 2"
   ]
  },
  {
   "cell_type": "code",
   "execution_count": 2,
   "metadata": {
    "collapsed": false
   },
   "outputs": [
    {
     "name": "stdout",
     "output_type": "stream",
     "text": [
      "Train data shape:  (49000, 3073)\n",
      "Train labels shape:  (49000,)\n",
      "Validation data shape:  (1000, 3073)\n",
      "Validation labels shape:  (1000,)\n",
      "Test data shape:  (1000, 3073)\n",
      "Test labels shape:  (1000,)\n",
      "dev data shape:  (500, 3073)\n",
      "dev labels shape:  (500,)\n"
     ]
    }
   ],
   "source": [
    "def get_CIFAR10_data(num_training=49000, num_validation=1000, num_test=1000, num_dev=500):\n",
    "    \"\"\"\n",
    "    Load the CIFAR-10 dataset from disk and perform preprocessing to prepare\n",
    "    it for the linear classifier. These are the same steps as we used for the\n",
    "    SVM, but condensed to a single function.  \n",
    "    \"\"\"\n",
    "    # Load the raw CIFAR-10 data\n",
    "    cifar10_dir = 'cs231n/datasets/cifar-10-batches-py'\n",
    "    X_train, y_train, X_test, y_test = load_CIFAR10(cifar10_dir)\n",
    "    \n",
    "    # subsample the data\n",
    "    mask = list(range(num_training, num_training + num_validation))\n",
    "    X_val = X_train[mask]\n",
    "    y_val = y_train[mask]\n",
    "    mask = list(range(num_training))\n",
    "    X_train = X_train[mask]\n",
    "    y_train = y_train[mask]\n",
    "    mask = list(range(num_test))\n",
    "    X_test = X_test[mask]\n",
    "    y_test = y_test[mask]\n",
    "    mask = np.random.choice(num_training, num_dev, replace=False)\n",
    "    X_dev = X_train[mask]\n",
    "    y_dev = y_train[mask]\n",
    "    \n",
    "    # Preprocessing: reshape the image data into rows\n",
    "    X_train = np.reshape(X_train, (X_train.shape[0], -1))\n",
    "    X_val = np.reshape(X_val, (X_val.shape[0], -1))\n",
    "    X_test = np.reshape(X_test, (X_test.shape[0], -1))\n",
    "    X_dev = np.reshape(X_dev, (X_dev.shape[0], -1))\n",
    "    \n",
    "    # Normalize the data: subtract the mean image\n",
    "    mean_image = np.mean(X_train, axis = 0)\n",
    "    X_train -= mean_image\n",
    "    X_val -= mean_image\n",
    "    X_test -= mean_image\n",
    "    X_dev -= mean_image\n",
    "    \n",
    "    # add bias dimension and transform into columns\n",
    "    X_train = np.hstack([X_train, np.ones((X_train.shape[0], 1))])\n",
    "    X_val = np.hstack([X_val, np.ones((X_val.shape[0], 1))])\n",
    "    X_test = np.hstack([X_test, np.ones((X_test.shape[0], 1))])\n",
    "    X_dev = np.hstack([X_dev, np.ones((X_dev.shape[0], 1))])\n",
    "    \n",
    "    return X_train, y_train, X_val, y_val, X_test, y_test, X_dev, y_dev\n",
    "\n",
    "\n",
    "# Invoke the above function to get our data.\n",
    "X_train, y_train, X_val, y_val, X_test, y_test, X_dev, y_dev = get_CIFAR10_data()\n",
    "print('Train data shape: ', X_train.shape)\n",
    "print('Train labels shape: ', y_train.shape)\n",
    "print('Validation data shape: ', X_val.shape)\n",
    "print('Validation labels shape: ', y_val.shape)\n",
    "print('Test data shape: ', X_test.shape)\n",
    "print('Test labels shape: ', y_test.shape)\n",
    "print('dev data shape: ', X_dev.shape)\n",
    "print('dev labels shape: ', y_dev.shape)"
   ]
  },
  {
   "cell_type": "markdown",
   "metadata": {},
   "source": [
    "## Softmax Classifier\n",
    "\n",
    "Your code for this section will all be written inside **cs231n/classifiers/softmax.py**. \n"
   ]
  },
  {
   "cell_type": "code",
   "execution_count": 3,
   "metadata": {
    "collapsed": false
   },
   "outputs": [
    {
     "name": "stdout",
     "output_type": "stream",
     "text": [
      "loss: 2.270368\n",
      "sanity check: 2.302585\n"
     ]
    }
   ],
   "source": [
    "# First implement the naive softmax loss function with nested loops.\n",
    "# Open the file cs231n/classifiers/softmax.py and implement the\n",
    "# softmax_loss_naive function.\n",
    "\n",
    "from cs231n.classifiers.softmax import softmax_loss_naive\n",
    "import time\n",
    "\n",
    "# Generate a random softmax weight matrix and use it to compute the loss.\n",
    "W = np.random.randn(3073, 10) * 0.0001\n",
    "loss, grad = softmax_loss_naive(W, X_dev, y_dev, 0.0)\n",
    "\n",
    "# As a rough sanity check, our loss should be something close to -log(0.1).\n",
    "print('loss: %f' % loss)\n",
    "print('sanity check: %f' % (-np.log(0.1)))"
   ]
  },
  {
   "cell_type": "markdown",
   "metadata": {},
   "source": [
    "## Inline Question 1:\n",
    "Why do we expect our loss to be close to -log(0.1)? Explain briefly.**\n",
    "\n",
    "**Your answer:** *Fill this in*\n"
   ]
  },
  {
   "cell_type": "code",
   "execution_count": 4,
   "metadata": {
    "collapsed": false
   },
   "outputs": [
    {
     "name": "stdout",
     "output_type": "stream",
     "text": [
      "numerical: 0.973675 analytic: 0.973675, relative error: 3.510447e-09\n",
      "numerical: 1.613048 analytic: 1.613048, relative error: 1.206040e-08\n",
      "numerical: 0.401256 analytic: 0.401256, relative error: 8.405967e-08\n",
      "numerical: -1.012213 analytic: -1.012213, relative error: 1.508642e-08\n",
      "numerical: 0.179278 analytic: 0.179278, relative error: 7.358713e-08\n",
      "numerical: -3.101673 analytic: -3.101673, relative error: 1.668997e-08\n",
      "numerical: 2.377353 analytic: 2.377353, relative error: 1.576544e-09\n",
      "numerical: 0.961197 analytic: 0.961197, relative error: 8.284799e-08\n",
      "numerical: 2.455850 analytic: 2.455850, relative error: 3.266228e-09\n",
      "numerical: 0.013497 analytic: 0.013497, relative error: 2.724978e-06\n",
      "numerical: 1.311737 analytic: 1.311737, relative error: 1.669204e-08\n",
      "numerical: -1.071480 analytic: -1.071480, relative error: 1.233189e-09\n",
      "numerical: 1.383593 analytic: 1.383593, relative error: 1.873489e-08\n",
      "numerical: 0.578710 analytic: 0.578709, relative error: 2.033271e-07\n",
      "numerical: 0.890499 analytic: 0.890499, relative error: 7.901196e-09\n",
      "numerical: 0.041656 analytic: 0.041656, relative error: 2.327002e-07\n",
      "numerical: -1.469388 analytic: -1.469388, relative error: 1.386053e-08\n",
      "numerical: -0.839925 analytic: -0.839925, relative error: 1.282396e-07\n",
      "numerical: -4.389564 analytic: -4.389564, relative error: 5.417607e-09\n",
      "numerical: -0.518492 analytic: -0.518492, relative error: 1.599695e-08\n"
     ]
    }
   ],
   "source": [
    "# Complete the implementation of softmax_loss_naive and implement a (naive)\n",
    "# version of the gradient that uses nested loops.\n",
    "loss, grad = softmax_loss_naive(W, X_dev, y_dev, 0.0)\n",
    "\n",
    "# As we did for the SVM, use numeric gradient checking as a debugging tool.\n",
    "# The numeric gradient should be close to the analytic gradient.\n",
    "from cs231n.gradient_check import grad_check_sparse\n",
    "f = lambda w: softmax_loss_naive(w, X_dev, y_dev, 0.0)[0]\n",
    "grad_numerical = grad_check_sparse(f, W, grad, 10)\n",
    "\n",
    "# similar to SVM case, do another gradient check with regularization\n",
    "loss, grad = softmax_loss_naive(W, X_dev, y_dev, 5e1)\n",
    "f = lambda w: softmax_loss_naive(w, X_dev, y_dev, 5e1)[0]\n",
    "grad_numerical = grad_check_sparse(f, W, grad, 10)"
   ]
  },
  {
   "cell_type": "code",
   "execution_count": 6,
   "metadata": {
    "collapsed": false
   },
   "outputs": [
    {
     "name": "stdout",
     "output_type": "stream",
     "text": [
      "naive loss: 2.270368e+00 computed in 0.103966s\n",
      "vectorized loss: 2.270368e+00 computed in 0.012265s\n",
      "Loss difference: 0.000000\n",
      "Gradient difference: 0.000000\n"
     ]
    }
   ],
   "source": [
    "# Now that we have a naive implementation of the softmax loss function and its gradient,\n",
    "# implement a vectorized version in softmax_loss_vectorized.\n",
    "# The two versions should compute the same results, but the vectorized version should be\n",
    "# much faster.\n",
    "tic = time.time()\n",
    "loss_naive, grad_naive = softmax_loss_naive(W, X_dev, y_dev, 0.000005)\n",
    "toc = time.time()\n",
    "print('naive loss: %e computed in %fs' % (loss_naive, toc - tic))\n",
    "\n",
    "from cs231n.classifiers.softmax import softmax_loss_vectorized\n",
    "tic = time.time()\n",
    "loss_vectorized, grad_vectorized = softmax_loss_vectorized(W, X_dev, y_dev, 0.000005)\n",
    "toc = time.time()\n",
    "print('vectorized loss: %e computed in %fs' % (loss_vectorized, toc - tic))\n",
    "\n",
    "# As we did for the SVM, we use the Frobenius norm to compare the two versions\n",
    "# of the gradient.\n",
    "grad_difference = np.linalg.norm(grad_naive - grad_vectorized, ord='fro')\n",
    "print('Loss difference: %f' % np.abs(loss_naive - loss_vectorized))\n",
    "print('Gradient difference: %f' % grad_difference)"
   ]
  },
  {
   "cell_type": "code",
   "execution_count": 7,
   "metadata": {
    "collapsed": false
   },
   "outputs": [
    {
     "name": "stdout",
     "output_type": "stream",
     "text": [
      "iteration 0 / 2000: loss 389.039320\n",
      "iteration 100 / 2000: loss 234.313479\n",
      "iteration 200 / 2000: loss 142.422939\n",
      "iteration 300 / 2000: loss 87.006502\n",
      "iteration 400 / 2000: loss 53.375197\n",
      "iteration 500 / 2000: loss 33.019328\n",
      "iteration 600 / 2000: loss 20.748852\n",
      "iteration 700 / 2000: loss 13.435215\n",
      "iteration 800 / 2000: loss 8.920349\n",
      "iteration 900 / 2000: loss 6.091857\n",
      "iteration 1000 / 2000: loss 4.603607\n",
      "iteration 1100 / 2000: loss 3.563317\n",
      "iteration 1200 / 2000: loss 2.964795\n",
      "iteration 1300 / 2000: loss 2.528528\n",
      "iteration 1400 / 2000: loss 2.406143\n",
      "iteration 1500 / 2000: loss 2.144549\n",
      "iteration 1600 / 2000: loss 2.152956\n",
      "iteration 1700 / 2000: loss 2.136307\n",
      "iteration 1800 / 2000: loss 2.097377\n",
      "iteration 1900 / 2000: loss 2.010111\n",
      "iteration 0 / 2000: loss 768.790913\n",
      "iteration 100 / 2000: loss 282.254749\n",
      "iteration 200 / 2000: loss 104.720683\n",
      "iteration 300 / 2000: loss 39.581600\n",
      "iteration 400 / 2000: loss 15.887194\n",
      "iteration 500 / 2000: loss 7.083393\n",
      "iteration 600 / 2000: loss 3.918657\n",
      "iteration 700 / 2000: loss 2.733485\n",
      "iteration 800 / 2000: loss 2.352681\n",
      "iteration 900 / 2000: loss 2.155855\n",
      "iteration 1000 / 2000: loss 2.105055\n",
      "iteration 1100 / 2000: loss 2.079833\n",
      "iteration 1200 / 2000: loss 2.111507\n",
      "iteration 1300 / 2000: loss 2.038600\n",
      "iteration 1400 / 2000: loss 2.050669\n",
      "iteration 1500 / 2000: loss 2.069951\n",
      "iteration 1600 / 2000: loss 2.085556\n",
      "iteration 1700 / 2000: loss 2.098430\n",
      "iteration 1800 / 2000: loss 2.057893\n",
      "iteration 1900 / 2000: loss 2.106033\n",
      "iteration 0 / 2000: loss 390.619415\n",
      "iteration 100 / 2000: loss 32.868103\n",
      "iteration 200 / 2000: loss 4.483817\n",
      "iteration 300 / 2000: loss 2.199269\n",
      "iteration 400 / 2000: loss 2.024954\n",
      "iteration 500 / 2000: loss 2.108707\n",
      "iteration 600 / 2000: loss 2.055274\n",
      "iteration 700 / 2000: loss 2.127182\n",
      "iteration 800 / 2000: loss 1.981923\n",
      "iteration 900 / 2000: loss 1.988457\n",
      "iteration 1000 / 2000: loss 2.004869\n",
      "iteration 1100 / 2000: loss 2.080559\n",
      "iteration 1200 / 2000: loss 2.036917\n",
      "iteration 1300 / 2000: loss 2.074762\n",
      "iteration 1400 / 2000: loss 2.051517\n",
      "iteration 1500 / 2000: loss 2.016852\n",
      "iteration 1600 / 2000: loss 2.008981\n",
      "iteration 1700 / 2000: loss 2.019255\n",
      "iteration 1800 / 2000: loss 1.971655\n",
      "iteration 1900 / 2000: loss 2.044806\n",
      "iteration 0 / 2000: loss 776.045971\n",
      "iteration 100 / 2000: loss 6.949194\n",
      "iteration 200 / 2000: loss 2.089067\n",
      "iteration 300 / 2000: loss 2.118641\n",
      "iteration 400 / 2000: loss 2.071339\n",
      "iteration 500 / 2000: loss 2.120141\n",
      "iteration 600 / 2000: loss 2.084229\n",
      "iteration 700 / 2000: loss 2.089211\n",
      "iteration 800 / 2000: loss 1.998503\n",
      "iteration 900 / 2000: loss 2.114426\n",
      "iteration 1000 / 2000: loss 2.121862\n",
      "iteration 1100 / 2000: loss 2.004602\n",
      "iteration 1200 / 2000: loss 2.122254\n",
      "iteration 1300 / 2000: loss 2.022533\n",
      "iteration 1400 / 2000: loss 2.087378\n",
      "iteration 1500 / 2000: loss 2.107505\n",
      "iteration 1600 / 2000: loss 2.128308\n",
      "iteration 1700 / 2000: loss 2.093800\n",
      "iteration 1800 / 2000: loss 2.044914\n",
      "iteration 1900 / 2000: loss 2.062091\n",
      "lr 1.000000e-07 reg 2.500000e+04 train accuracy: 0.347959 val accuracy: 0.367000\n",
      "lr 1.000000e-07 reg 5.000000e+04 train accuracy: 0.329755 val accuracy: 0.342000\n",
      "lr 5.000000e-07 reg 2.500000e+04 train accuracy: 0.352918 val accuracy: 0.361000\n",
      "lr 5.000000e-07 reg 5.000000e+04 train accuracy: 0.330918 val accuracy: 0.354000\n",
      "best validation accuracy achieved during cross-validation: 0.367000\n"
     ]
    }
   ],
   "source": [
    "# Use the validation set to tune hyperparameters (regularization strength and\n",
    "# learning rate). You should experiment with different ranges for the learning\n",
    "# rates and regularization strengths; if you are careful you should be able to\n",
    "# get a classification accuracy of over 0.35 on the validation set.\n",
    "from cs231n.classifiers import Softmax\n",
    "results = {}\n",
    "best_val = -1\n",
    "best_softmax = None\n",
    "learning_rates = [1e-7, 5e-7]\n",
    "regularization_strengths = [2.5e4, 5e4]\n",
    "\n",
    "################################################################################\n",
    "# TODO:                                                                        #\n",
    "# Use the validation set to set the learning rate and regularization strength. #\n",
    "# This should be identical to the validation that you did for the SVM; save    #\n",
    "# the best trained softmax classifer in best_softmax.                          #\n",
    "################################################################################\n",
    "for lr in learning_rates:\n",
    "    for reg in regularization_strengths:\n",
    "        softmax = Softmax()\n",
    "        softmax.train(X_train, y_train, learning_rate=lr, reg=reg,\n",
    "                      num_iters=2000, verbose=True)\n",
    "        y_train_pred = softmax.predict(X_train)\n",
    "        y_val_pred = softmax.predict(X_val)\n",
    "        train_accuracy = np.mean(y_train == y_train_pred)\n",
    "        val_accuracy = np.mean(y_val == y_val_pred)\n",
    "        results[(lr, reg)] = (train_accuracy, val_accuracy)\n",
    "        \n",
    "        if val_accuracy > best_val:\n",
    "            best_val = val_accuracy\n",
    "            best_softmax = softmax\n",
    "################################################################################\n",
    "#                              END OF YOUR CODE                                #\n",
    "################################################################################\n",
    "    \n",
    "# Print out results.\n",
    "for lr, reg in sorted(results):\n",
    "    train_accuracy, val_accuracy = results[(lr, reg)]\n",
    "    print('lr %e reg %e train accuracy: %f val accuracy: %f' % (\n",
    "                lr, reg, train_accuracy, val_accuracy))\n",
    "    \n",
    "print('best validation accuracy achieved during cross-validation: %f' % best_val)"
   ]
  },
  {
   "cell_type": "code",
   "execution_count": 8,
   "metadata": {
    "collapsed": false
   },
   "outputs": [
    {
     "name": "stdout",
     "output_type": "stream",
     "text": [
      "softmax on raw pixels final test set accuracy: 0.354000\n"
     ]
    }
   ],
   "source": [
    "# evaluate on test set\n",
    "# Evaluate the best softmax on test set\n",
    "y_test_pred = best_softmax.predict(X_test)\n",
    "test_accuracy = np.mean(y_test == y_test_pred)\n",
    "print('softmax on raw pixels final test set accuracy: %f' % (test_accuracy, ))"
   ]
  },
  {
   "cell_type": "code",
   "execution_count": 9,
   "metadata": {
    "collapsed": false
   },
   "outputs": [
    {
     "data": {
      "image/png": "[encoded data removed]",
      "text/plain": [
       "<matplotlib.figure.Figure at 0x7fad07e49490>"
      ]
     },
     "metadata": {},
     "output_type": "display_data"
    }
   ],
   "source": [
    "# Visualize the learned weights for each class\n",
    "w = best_softmax.W[:-1,:] # strip out the bias\n",
    "w = w.reshape(32, 32, 3, 10)\n",
    "\n",
    "w_min, w_max = np.min(w), np.max(w)\n",
    "\n",
    "classes = ['plane', 'car', 'bird', 'cat', 'deer', 'dog', 'frog', 'horse', 'ship', 'truck']\n",
    "for i in range(10):\n",
    "    plt.subplot(2, 5, i + 1)\n",
    "    \n",
    "    # Rescale the weights to be between 0 and 255\n",
    "    wimg = 255.0 * (w[:, :, :, i].squeeze() - w_min) / (w_max - w_min)\n",
    "    plt.imshow(wimg.astype('uint8'))\n",
    "    plt.axis('off')\n",
    "    plt.title(classes[i])"
   ]
  },
  {
   "cell_type": "code",
   "execution_count": null,
   "metadata": {
    "collapsed": true
   },
   "outputs": [],
   "source": []
  }
 ],
 "metadata": {
  "kernelspec": {
   "display_name": "Python 2",
   "language": "python",
   "name": "python2"
  },
  "language_info": {
   "codemirror_mode": {
    "name": "ipython",
    "version": 2
   },
   "file_extension": ".py",
   "mimetype": "text/x-python",
   "name": "python",
   "nbconvert_exporter": "python",
   "pygments_lexer": "ipython2",
   "version": "2.7.12"
  }
 },
 "nbformat": 4,
 "nbformat_minor": 0
}
