{
 "cells": [
  {
   "cell_type": "markdown",
   "metadata": {},
   "source": [
    "# Softmax exercise\n",
    "\n",
    "*Complete and hand in this completed worksheet (including its outputs and any supporting code outside of the worksheet) with your assignment submission. For more details see the [assignments page](http://vision.stanford.edu/teaching/cs231n/assignments.html) on the course website.*\n",
    "\n",
    "This exercise is analogous to the SVM exercise. You will:\n",
    "\n",
    "- implement a fully-vectorized **loss function** for the Softmax classifier\n",
    "- implement the fully-vectorized expression for its **analytic gradient**\n",
    "- **check your implementation** with numerical gradient\n",
    "- use a validation set to **tune the learning rate and regularization** strength\n",
    "- **optimize** the loss function with **SGD**\n",
    "- **visualize** the final learned weights\n"
   ]
  },
  {
   "cell_type": "code",
   "execution_count": 1,
   "metadata": {
    "collapsed": false
   },
   "outputs": [],
   "source": [
    "import random\n",
    "import numpy as np\n",
    "from cs231n.data_utils import load_CIFAR10\n",
    "import matplotlib.pyplot as plt\n",
    "\n",
    "from __future__ import print_function\n",
    "\n",
    "%matplotlib inline\n",
    "plt.rcParams['figure.figsize'] = (10.0, 8.0) # set default size of plots\n",
    "plt.rcParams['image.interpolation'] = 'nearest'\n",
    "plt.rcParams['image.cmap'] = 'gray'\n",
    "\n",
    "# for auto-reloading extenrnal modules\n",
    "# see http://stackoverflow.com/questions/1907993/autoreload-of-modules-in-ipython\n",
    "%load_ext autoreload\n",
    "%autoreload 2"
   ]
  },
  {
   "cell_type": "code",
   "execution_count": 2,
   "metadata": {
    "collapsed": false
   },
   "outputs": [
    {
     "name": "stdout",
     "output_type": "stream",
     "text": [
      "Train data shape:  (49000, 3073)\n",
      "Train labels shape:  (49000,)\n",
      "Validation data shape:  (1000, 3073)\n",
      "Validation labels shape:  (1000,)\n",
      "Test data shape:  (1000, 3073)\n",
      "Test labels shape:  (1000,)\n",
      "dev data shape:  (500, 3073)\n",
      "dev labels shape:  (500,)\n"
     ]
    }
   ],
   "source": [
    "def get_CIFAR10_data(num_training=49000, num_validation=1000, num_test=1000, num_dev=500):\n",
    "    \"\"\"\n",
    "    Load the CIFAR-10 dataset from disk and perform preprocessing to prepare\n",
    "    it for the linear classifier. These are the same steps as we used for the\n",
    "    SVM, but condensed to a single function.  \n",
    "    \"\"\"\n",
    "    # Load the raw CIFAR-10 data\n",
    "    cifar10_dir = 'cs231n/datasets/cifar-10-batches-py'\n",
    "    X_train, y_train, X_test, y_test = load_CIFAR10(cifar10_dir)\n",
    "    \n",
    "    # subsample the data\n",
    "    mask = list(range(num_training, num_training + num_validation))\n",
    "    X_val = X_train[mask]\n",
    "    y_val = y_train[mask]\n",
    "    mask = list(range(num_training))\n",
    "    X_train = X_train[mask]\n",
    "    y_train = y_train[mask]\n",
    "    mask = list(range(num_test))\n",
    "    X_test = X_test[mask]\n",
    "    y_test = y_test[mask]\n",
    "    mask = np.random.choice(num_training, num_dev, replace=False)\n",
    "    X_dev = X_train[mask]\n",
    "    y_dev = y_train[mask]\n",
    "    \n",
    "    # Preprocessing: reshape the image data into rows\n",
    "    X_train = np.reshape(X_train, (X_train.shape[0], -1))\n",
    "    X_val = np.reshape(X_val, (X_val.shape[0], -1))\n",
    "    X_test = np.reshape(X_test, (X_test.shape[0], -1))\n",
    "    X_dev = np.reshape(X_dev, (X_dev.shape[0], -1))\n",
    "    \n",
    "    # Normalize the data: subtract the mean image\n",
    "    mean_image = np.mean(X_train, axis = 0)\n",
    "    X_train -= mean_image\n",
    "    X_val -= mean_image\n",
    "    X_test -= mean_image\n",
    "    X_dev -= mean_image\n",
    "    \n",
    "    # add bias dimension and transform into columns\n",
    "    X_train = np.hstack([X_train, np.ones((X_train.shape[0], 1))])\n",
    "    X_val = np.hstack([X_val, np.ones((X_val.shape[0], 1))])\n",
    "    X_test = np.hstack([X_test, np.ones((X_test.shape[0], 1))])\n",
    "    X_dev = np.hstack([X_dev, np.ones((X_dev.shape[0], 1))])\n",
    "    \n",
    "    return X_train, y_train, X_val, y_val, X_test, y_test, X_dev, y_dev\n",
    "\n",
    "\n",
    "# Invoke the above function to get our data.\n",
    "X_train, y_train, X_val, y_val, X_test, y_test, X_dev, y_dev = get_CIFAR10_data()\n",
    "print('Train data shape: ', X_train.shape)\n",
    "print('Train labels shape: ', y_train.shape)\n",
    "print('Validation data shape: ', X_val.shape)\n",
    "print('Validation labels shape: ', y_val.shape)\n",
    "print('Test data shape: ', X_test.shape)\n",
    "print('Test labels shape: ', y_test.shape)\n",
    "print('dev data shape: ', X_dev.shape)\n",
    "print('dev labels shape: ', y_dev.shape)"
   ]
  },
  {
   "cell_type": "markdown",
   "metadata": {},
   "source": [
    "## Softmax Classifier\n",
    "\n",
    "Your code for this section will all be written inside **cs231n/classifiers/softmax.py**. \n"
   ]
  },
  {
   "cell_type": "code",
   "execution_count": 16,
   "metadata": {
    "collapsed": false
   },
   "outputs": [
    {
     "name": "stdout",
     "output_type": "stream",
     "text": [
      "loss: 2.366443\n",
      "sanity check: 2.302585\n"
     ]
    }
   ],
   "source": [
    "# First implement the naive softmax loss function with nested loops.\n",
    "# Open the file cs231n/classifiers/softmax.py and implement the\n",
    "# softmax_loss_naive function.\n",
    "\n",
    "from cs231n.classifiers.softmax import softmax_loss_naive\n",
    "import time\n",
    "\n",
    "# Generate a random softmax weight matrix and use it to compute the loss.\n",
    "W = np.random.randn(3073, 10) * 0.0001\n",
    "loss, grad = softmax_loss_naive(W, X_dev, y_dev, 0.0)\n",
    "\n",
    "# As a rough sanity check, our loss should be something close to -log(0.1).\n",
    "print('loss: %f' % loss)\n",
    "print('sanity check: %f' % (-np.log(0.1)))"
   ]
  },
  {
   "cell_type": "markdown",
   "metadata": {},
   "source": [
    "## Inline Question 1:\n",
    "Why do we expect our loss to be close to -log(0.1)? Explain briefly.**\n",
    "\n",
    "**Your answer:** *Fill this in*\n"
   ]
  },
  {
   "cell_type": "code",
   "execution_count": 17,
   "metadata": {
    "collapsed": false
   },
   "outputs": [
    {
     "name": "stdout",
     "output_type": "stream",
     "text": [
      "numerical: 1.356512 analytic: 1.356512, relative error: 3.628392e-08\n",
      "numerical: 1.552069 analytic: 1.552069, relative error: 2.945563e-08\n",
      "numerical: 0.374531 analytic: 0.374531, relative error: 1.666138e-08\n",
      "numerical: -2.428095 analytic: -2.428095, relative error: 5.274342e-09\n",
      "numerical: 3.630142 analytic: 3.630142, relative error: 2.781584e-08\n",
      "numerical: 3.599602 analytic: 3.599602, relative error: 1.193700e-08\n",
      "numerical: 0.615127 analytic: 0.615127, relative error: 4.199254e-08\n",
      "numerical: 1.354716 analytic: 1.354716, relative error: 3.474737e-08\n",
      "numerical: -0.679821 analytic: -0.679821, relative error: 7.432988e-08\n",
      "numerical: 2.542276 analytic: 2.542275, relative error: 1.367859e-08\n",
      "numerical: 1.633554 analytic: 1.633554, relative error: 2.381252e-08\n",
      "numerical: 0.751587 analytic: 0.751587, relative error: 1.334593e-08\n",
      "numerical: 0.069072 analytic: 0.069072, relative error: 2.042903e-07\n",
      "numerical: -2.232932 analytic: -2.232932, relative error: 1.429409e-09\n",
      "numerical: 1.534883 analytic: 1.534883, relative error: 2.986741e-08\n",
      "numerical: 0.834648 analytic: 0.834648, relative error: 5.385641e-08\n",
      "numerical: -1.068202 analytic: -1.068202, relative error: 5.041359e-08\n",
      "numerical: -1.152707 analytic: -1.152707, relative error: 1.544828e-08\n",
      "numerical: 1.750559 analytic: 1.750559, relative error: 3.830590e-08\n",
      "numerical: 3.114603 analytic: 3.114602, relative error: 2.947118e-08\n"
     ]
    }
   ],
   "source": [
    "# Complete the implementation of softmax_loss_naive and implement a (naive)\n",
    "# version of the gradient that uses nested loops.\n",
    "loss, grad = softmax_loss_naive(W, X_dev, y_dev, 0.0)\n",
    "\n",
    "# As we did for the SVM, use numeric gradient checking as a debugging tool.\n",
    "# The numeric gradient should be close to the analytic gradient.\n",
    "from cs231n.gradient_check import grad_check_sparse\n",
    "f = lambda w: softmax_loss_naive(w, X_dev, y_dev, 0.0)[0]\n",
    "grad_numerical = grad_check_sparse(f, W, grad, 10)\n",
    "\n",
    "# similar to SVM case, do another gradient check with regularization\n",
    "loss, grad = softmax_loss_naive(W, X_dev, y_dev, 5e1)\n",
    "f = lambda w: softmax_loss_naive(w, X_dev, y_dev, 5e1)[0]\n",
    "grad_numerical = grad_check_sparse(f, W, grad, 10)"
   ]
  },
  {
   "cell_type": "code",
   "execution_count": 22,
   "metadata": {
    "collapsed": false
   },
   "outputs": [
    {
     "name": "stdout",
     "output_type": "stream",
     "text": [
      "naive loss: 2.366443e+00 computed in 0.052608s\n",
      "vectorized loss: 2.366443e+00 computed in 0.010407s\n",
      "Loss difference: 0.000000\n",
      "Gradient difference: 0.000000\n"
     ]
    }
   ],
   "source": [
    "# Now that we have a naive implementation of the softmax loss function and its gradient,\n",
    "# implement a vectorized version in softmax_loss_vectorized.\n",
    "# The two versions should compute the same results, but the vectorized version should be\n",
    "# much faster.\n",
    "tic = time.time()\n",
    "loss_naive, grad_naive = softmax_loss_naive(W, X_dev, y_dev, 0.000005)\n",
    "toc = time.time()\n",
    "print('naive loss: %e computed in %fs' % (loss_naive, toc - tic))\n",
    "\n",
    "from cs231n.classifiers.softmax import softmax_loss_vectorized\n",
    "tic = time.time()\n",
    "loss_vectorized, grad_vectorized = softmax_loss_vectorized(W, X_dev, y_dev, 0.000005)\n",
    "toc = time.time()\n",
    "print('vectorized loss: %e computed in %fs' % (loss_vectorized, toc - tic))\n",
    "\n",
    "# As we did for the SVM, we use the Frobenius norm to compare the two versions\n",
    "# of the gradient.\n",
    "grad_difference = np.linalg.norm(grad_naive - grad_vectorized, ord='fro')\n",
    "print('Loss difference: %f' % np.abs(loss_naive - loss_vectorized))\n",
    "print('Gradient difference: %f' % grad_difference)"
   ]
  },
  {
   "cell_type": "code",
   "execution_count": 23,
   "metadata": {
    "collapsed": false
   },
   "outputs": [
    {
     "name": "stdout",
     "output_type": "stream",
     "text": [
      "iteration 0 / 2000: loss 389.071663\n",
      "iteration 100 / 2000: loss 235.146193\n",
      "iteration 200 / 2000: loss 142.808258\n",
      "iteration 300 / 2000: loss 87.322040\n",
      "iteration 400 / 2000: loss 53.499756\n",
      "iteration 500 / 2000: loss 33.180316\n",
      "iteration 600 / 2000: loss 20.818360\n",
      "iteration 700 / 2000: loss 13.500002\n",
      "iteration 800 / 2000: loss 8.928613\n",
      "iteration 900 / 2000: loss 6.152415\n",
      "iteration 1000 / 2000: loss 4.527109\n",
      "iteration 1100 / 2000: loss 3.603623\n",
      "iteration 1200 / 2000: loss 2.971162\n",
      "iteration 1300 / 2000: loss 2.594656\n",
      "iteration 1400 / 2000: loss 2.414273\n",
      "iteration 1500 / 2000: loss 2.222788\n",
      "iteration 1600 / 2000: loss 2.137323\n",
      "iteration 1700 / 2000: loss 2.011313\n",
      "iteration 1800 / 2000: loss 2.061724\n",
      "iteration 1900 / 2000: loss 2.078477\n",
      "iteration 0 / 2000: loss 769.210233\n",
      "iteration 100 / 2000: loss 282.402365\n",
      "iteration 200 / 2000: loss 104.609118\n",
      "iteration 300 / 2000: loss 39.653634\n",
      "iteration 400 / 2000: loss 15.825092\n",
      "iteration 500 / 2000: loss 7.052031\n",
      "iteration 600 / 2000: loss 3.910988\n",
      "iteration 700 / 2000: loss 2.754185\n",
      "iteration 800 / 2000: loss 2.349155\n",
      "iteration 900 / 2000: loss 2.195964\n",
      "iteration 1000 / 2000: loss 2.103564\n",
      "iteration 1100 / 2000: loss 2.130117\n",
      "iteration 1200 / 2000: loss 2.082733\n",
      "iteration 1300 / 2000: loss 2.036247\n",
      "iteration 1400 / 2000: loss 2.121217\n",
      "iteration 1500 / 2000: loss 2.093653\n",
      "iteration 1600 / 2000: loss 2.058814\n",
      "iteration 1700 / 2000: loss 2.130498\n",
      "iteration 1800 / 2000: loss 2.100306\n",
      "iteration 1900 / 2000: loss 2.098023\n",
      "iteration 0 / 2000: loss 389.240196\n",
      "iteration 100 / 2000: loss 32.887001\n",
      "iteration 200 / 2000: loss 4.454275\n",
      "iteration 300 / 2000: loss 2.229724\n",
      "iteration 400 / 2000: loss 2.110825\n",
      "iteration 500 / 2000: loss 2.043997\n",
      "iteration 600 / 2000: loss 2.005449\n",
      "iteration 700 / 2000: loss 1.990563\n",
      "iteration 800 / 2000: loss 2.043311\n",
      "iteration 900 / 2000: loss 2.056863\n",
      "iteration 1000 / 2000: loss 1.940936\n",
      "iteration 1100 / 2000: loss 1.968206\n",
      "iteration 1200 / 2000: loss 2.035393\n",
      "iteration 1300 / 2000: loss 1.998328\n",
      "iteration 1400 / 2000: loss 2.026062\n",
      "iteration 1500 / 2000: loss 2.009993\n",
      "iteration 1600 / 2000: loss 1.987470\n",
      "iteration 1700 / 2000: loss 1.969956\n",
      "iteration 1800 / 2000: loss 2.090880\n",
      "iteration 1900 / 2000: loss 2.038835\n",
      "iteration 0 / 2000: loss 777.169867\n",
      "iteration 100 / 2000: loss 6.912879\n",
      "iteration 200 / 2000: loss 2.127526\n",
      "iteration 300 / 2000: loss 2.128016\n",
      "iteration 400 / 2000: loss 2.099215\n",
      "iteration 500 / 2000: loss 2.162887\n",
      "iteration 600 / 2000: loss 2.126853\n",
      "iteration 700 / 2000: loss 2.130903\n",
      "iteration 800 / 2000: loss 2.031857\n",
      "iteration 900 / 2000: loss 2.089314\n",
      "iteration 1000 / 2000: loss 2.119275\n",
      "iteration 1100 / 2000: loss 2.099194\n",
      "iteration 1200 / 2000: loss 2.091234\n",
      "iteration 1300 / 2000: loss 2.037795\n",
      "iteration 1400 / 2000: loss 2.038011\n",
      "iteration 1500 / 2000: loss 2.110760\n",
      "iteration 1600 / 2000: loss 2.122065\n",
      "iteration 1700 / 2000: loss 2.086102\n",
      "iteration 1800 / 2000: loss 2.026837\n",
      "iteration 1900 / 2000: loss 2.102139\n",
      "lr 1.000000e-07 reg 2.500000e+04 train accuracy: 0.349143 val accuracy: 0.363000\n",
      "lr 1.000000e-07 reg 5.000000e+04 train accuracy: 0.329633 val accuracy: 0.338000\n",
      "lr 5.000000e-07 reg 2.500000e+04 train accuracy: 0.337347 val accuracy: 0.360000\n",
      "lr 5.000000e-07 reg 5.000000e+04 train accuracy: 0.313041 val accuracy: 0.324000\n",
      "best validation accuracy achieved during cross-validation: 0.363000\n"
     ]
    }
   ],
   "source": [
    "# Use the validation set to tune hyperparameters (regularization strength and\n",
    "# learning rate). You should experiment with different ranges for the learning\n",
    "# rates and regularization strengths; if you are careful you should be able to\n",
    "# get a classification accuracy of over 0.35 on the validation set.\n",
    "from cs231n.classifiers import Softmax\n",
    "results = {}\n",
    "best_val = -1\n",
    "best_softmax = None\n",
    "learning_rates = [1e-7, 5e-7]\n",
    "regularization_strengths = [2.5e4, 5e4]\n",
    "\n",
    "################################################################################\n",
    "# TODO:                                                                        #\n",
    "# Use the validation set to set the learning rate and regularization strength. #\n",
    "# This should be identical to the validation that you did for the SVM; save    #\n",
    "# the best trained softmax classifer in best_softmax.                          #\n",
    "################################################################################\n",
    "for lr in learning_rates:\n",
    "    for reg in regularization_strengths:\n",
    "        softmax = Softmax()\n",
    "        softmax.train(X_train, y_train, learning_rate=lr, reg=reg,\n",
    "                      num_iters=2000, verbose=True)\n",
    "        y_train_pred = softmax.predict(X_train)\n",
    "        y_val_pred = softmax.predict(X_val)\n",
    "        train_accuracy = np.mean(y_train == y_train_pred)\n",
    "        val_accuracy = np.mean(y_val == y_val_pred)\n",
    "        results[(lr, reg)] = (train_accuracy, val_accuracy)\n",
    "        \n",
    "        if val_accuracy > best_val:\n",
    "            best_val = val_accuracy\n",
    "            best_softmax = softmax\n",
    "################################################################################\n",
    "#                              END OF YOUR CODE                                #\n",
    "################################################################################\n",
    "    \n",
    "# Print out results.\n",
    "for lr, reg in sorted(results):\n",
    "    train_accuracy, val_accuracy = results[(lr, reg)]\n",
    "    print('lr %e reg %e train accuracy: %f val accuracy: %f' % (\n",
    "                lr, reg, train_accuracy, val_accuracy))\n",
    "    \n",
    "print('best validation accuracy achieved during cross-validation: %f' % best_val)"
   ]
  },
  {
   "cell_type": "code",
   "execution_count": 24,
   "metadata": {
    "collapsed": false
   },
   "outputs": [
    {
     "name": "stdout",
     "output_type": "stream",
     "text": [
      "softmax on raw pixels final test set accuracy: 0.358000\n"
     ]
    }
   ],
   "source": [
    "# evaluate on test set\n",
    "# Evaluate the best softmax on test set\n",
    "y_test_pred = best_softmax.predict(X_test)\n",
    "test_accuracy = np.mean(y_test == y_test_pred)\n",
    "print('softmax on raw pixels final test set accuracy: %f' % (test_accuracy, ))"
   ]
  },
  {
   "cell_type": "code",
   "execution_count": 25,
   "metadata": {
    "collapsed": false
   },
   "outputs": [
    {
     "data": {
      "image/png": "[encoded data removed]",
      "text/plain": [
       "<matplotlib.figure.Figure at 0x7f9221097310>"
      ]
     },
     "metadata": {},
     "output_type": "display_data"
    }
   ],
   "source": [
    "# Visualize the learned weights for each class\n",
    "w = best_softmax.W[:-1,:] # strip out the bias\n",
    "w = w.reshape(32, 32, 3, 10)\n",
    "\n",
    "w_min, w_max = np.min(w), np.max(w)\n",
    "\n",
    "classes = ['plane', 'car', 'bird', 'cat', 'deer', 'dog', 'frog', 'horse', 'ship', 'truck']\n",
    "for i in range(10):\n",
    "    plt.subplot(2, 5, i + 1)\n",
    "    \n",
    "    # Rescale the weights to be between 0 and 255\n",
    "    wimg = 255.0 * (w[:, :, :, i].squeeze() - w_min) / (w_max - w_min)\n",
    "    plt.imshow(wimg.astype('uint8'))\n",
    "    plt.axis('off')\n",
    "    plt.title(classes[i])"
   ]
  },
  {
   "cell_type": "code",
   "execution_count": null,
   "metadata": {
    "collapsed": true
   },
   "outputs": [],
   "source": []
  }
 ],
 "metadata": {
  "kernelspec": {
   "display_name": "Python 2",
   "language": "python",
   "name": "python2"
  },
  "language_info": {
   "codemirror_mode": {
    "name": "ipython",
    "version": 2
   },
   "file_extension": ".py",
   "mimetype": "text/x-python",
   "name": "python",
   "nbconvert_exporter": "python",
   "pygments_lexer": "ipython2",
   "version": "2.7.12"
  }
 },
 "nbformat": 4,
 "nbformat_minor": 0
}
